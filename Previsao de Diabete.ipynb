{
 "cells": [
  {
   "cell_type": "markdown",
   "id": "e3597c09",
   "metadata": {},
   "source": [
    "\n",
    "### <font color='blue'>Contexto</font>\n",
    "\n",
    "**O diabetes** é uma das doenças crônicas com risco de vida que mais cresce e já afetou 422 milhões de pessoas em todo o mundo de acordo com o relatório da Organização Mundial da Saúde (OMS), em 2018. Devido à presença de uma fase assintomática relativamente longa, a deteção precoce do diabetes é sempre desejado para um resultado clinicamente significativo. Cerca de 50% de todas as pessoas que sofrem de diabetes não são diagnosticadas devido à sua fase assintomática de longo prazo.\n",
    "\n",
    "Este conjunto de dados contém 520 observações com 17 características, coletadas usando questionários diretos e resultados de diagnósticos dos pacientes do Sylhet Diabetes Hospital em Sylhet, Bangladesh.\n",
    "\n",
    "\n",
    "### <font color='blue'>Objectivo da Analise</font>\n",
    "\n",
    "\n",
    "* **Criar um modelo de classificação para prever diabetes.**\n",
    "\n",
    "* **Explorar as características mais comuns associadas ao risco diabético.**\n",
    "\n",
    "\n",
    "### <font color='blue'>Descrição das Variaveis Preditoras</font>\n",
    "\n",
    "* **Poliúria** - Se o paciente esta tendo um volume excessivo de urina\n",
    "ou não.\n",
    "\n",
    "* **Polidipsia** - Se o paciente esta tendo uma sede excessiva ou não.\n",
    "\n",
    "* **Perda_peso_repentina**- Se o paciente teve um episódio de perda súbita de peso ou não.\n",
    "\n",
    "* **Fraqueza**- Se o paciente teve um episódio de sensação de fraqueza.\n",
    "\n",
    "* **Polifagia**- Se o paciente teve um episódio de fome excessiva/extrema ou não.\n",
    "\n",
    "* **candidiase_genital**- Se o paciente teve uma infecção por fungos ou não.\n",
    "\n",
    "* **desfoque_visual**- Se o paciente teve um episódio de visão turva.\n",
    "\n",
    "* **coceira**- Se o paciente teve um episódio de coceira excessiva.\n",
    "\n",
    "* **irritabilidade**- Se o paciente teve um episódio de irritabilidade.\n",
    "\n",
    "* **cura_atrasada**- Se o paciente teve uma cura tardia notada quando ferido.\n",
    "\n",
    "* **partial_paresis**- Se o paciente teve um episódio de enfraquecimento de um músculo/grupo de músculos ou não.\n",
    "\n",
    "* **rigidez muscular**- Se o paciente teve um episódio de rigidez muscular.\n",
    "\n",
    "* **calvície**- Se o paciente apresentou perda de cabelo ou não.\n",
    "\n",
    "* **obesidade**- Se o paciente pode ser considerado obeso ou não usando seu índice de massa corporal.\n",
    "\n",
    "* **Resultado** - se o paciente foi diagnosticado com diabetes ou nao, *1* corresponde *SIM* e 0 corresponde *NÃO*.\n"
   ]
  },
  {
   "cell_type": "markdown",
   "id": "48f76001",
   "metadata": {},
   "source": [
    "### <font color='blue'> Importando as bibliotecas que serão usadas na analise </font>"
   ]
  },
  {
   "cell_type": "code",
   "execution_count": 1,
   "id": "6389091c",
   "metadata": {},
   "outputs": [],
   "source": [
    "import numpy as np\n",
    "import pandas as pd\n",
    "from pandas_profiling import ProfileReport\n",
    "import joblib\n",
    "import pickle\n",
    "import numpy as np\n",
    "import pandas as pd\n",
    "import seaborn as sns\n",
    "from matplotlib import pyplot as plt\n",
    "import sklearn\n",
    "from sklearn.model_selection import train_test_split\n",
    "from sklearn.model_selection import GridSearchCV\n",
    "from sklearn.model_selection import cross_val_score\n",
    "from sklearn.model_selection import RandomizedSearchCV\n",
    "from sklearn.linear_model import LogisticRegression\n",
    "from sklearn.ensemble import RandomForestClassifier\n",
    "from sklearn.neighbors import KNeighborsClassifier\n",
    "from sklearn.tree import DecisionTreeClassifier\n",
    "from sklearn.svm import SVC\n",
    "from sklearn.metrics import roc_curve, auc, roc_auc_score, confusion_matrix\n",
    "from sklearn.metrics import accuracy_score\n",
    "%matplotlib inline \n",
    "import warnings\n",
    "warnings.filterwarnings(\"ignore\")\n",
    "from sklearn.preprocessing import StandardScaler"
   ]
  },
  {
   "cell_type": "markdown",
   "id": "7db5bc27",
   "metadata": {},
   "source": [
    "Carregando os dados"
   ]
  },
  {
   "cell_type": "code",
   "execution_count": 2,
   "id": "78c15912",
   "metadata": {},
   "outputs": [],
   "source": [
    "df=pd.read_excel('diabete.xlsx')"
   ]
  },
  {
   "cell_type": "code",
   "execution_count": 3,
   "id": "df7b6216",
   "metadata": {},
   "outputs": [
    {
     "data": {
      "text/html": [
       "<div>\n",
       "<style scoped>\n",
       "    .dataframe tbody tr th:only-of-type {\n",
       "        vertical-align: middle;\n",
       "    }\n",
       "\n",
       "    .dataframe tbody tr th {\n",
       "        vertical-align: top;\n",
       "    }\n",
       "\n",
       "    .dataframe thead th {\n",
       "        text-align: right;\n",
       "    }\n",
       "</style>\n",
       "<table border=\"1\" class=\"dataframe\">\n",
       "  <thead>\n",
       "    <tr style=\"text-align: right;\">\n",
       "      <th></th>\n",
       "      <th>id</th>\n",
       "      <th>idade</th>\n",
       "      <th>genero</th>\n",
       "      <th>poliúria</th>\n",
       "      <th>polidipsia</th>\n",
       "      <th>Perda_peso_repentina</th>\n",
       "      <th>fraqueza</th>\n",
       "      <th>polifagia</th>\n",
       "      <th>candidiase_genital</th>\n",
       "      <th>desfoque_visual</th>\n",
       "      <th>coceira</th>\n",
       "      <th>irritabilidade</th>\n",
       "      <th>cura_atrasada</th>\n",
       "      <th>partial_paresis</th>\n",
       "      <th>rigidez_muscular</th>\n",
       "      <th>calvicie</th>\n",
       "      <th>obesidade</th>\n",
       "      <th>Resultado</th>\n",
       "    </tr>\n",
       "  </thead>\n",
       "  <tbody>\n",
       "    <tr>\n",
       "      <th>0</th>\n",
       "      <td>1</td>\n",
       "      <td>40</td>\n",
       "      <td>Masculino</td>\n",
       "      <td>Nao</td>\n",
       "      <td>Sim</td>\n",
       "      <td>Nao</td>\n",
       "      <td>Sim</td>\n",
       "      <td>Nao</td>\n",
       "      <td>Nao</td>\n",
       "      <td>Nao</td>\n",
       "      <td>Sim</td>\n",
       "      <td>Nao</td>\n",
       "      <td>Sim</td>\n",
       "      <td>Nao</td>\n",
       "      <td>Sim</td>\n",
       "      <td>Sim</td>\n",
       "      <td>Sim</td>\n",
       "      <td>1</td>\n",
       "    </tr>\n",
       "    <tr>\n",
       "      <th>1</th>\n",
       "      <td>2</td>\n",
       "      <td>58</td>\n",
       "      <td>Masculino</td>\n",
       "      <td>Nao</td>\n",
       "      <td>Nao</td>\n",
       "      <td>Nao</td>\n",
       "      <td>Sim</td>\n",
       "      <td>Nao</td>\n",
       "      <td>Nao</td>\n",
       "      <td>Sim</td>\n",
       "      <td>Nao</td>\n",
       "      <td>Nao</td>\n",
       "      <td>Nao</td>\n",
       "      <td>Sim</td>\n",
       "      <td>Nao</td>\n",
       "      <td>Sim</td>\n",
       "      <td>Nao</td>\n",
       "      <td>1</td>\n",
       "    </tr>\n",
       "    <tr>\n",
       "      <th>2</th>\n",
       "      <td>3</td>\n",
       "      <td>41</td>\n",
       "      <td>Masculino</td>\n",
       "      <td>Sim</td>\n",
       "      <td>Nao</td>\n",
       "      <td>Nao</td>\n",
       "      <td>Sim</td>\n",
       "      <td>Sim</td>\n",
       "      <td>Nao</td>\n",
       "      <td>Nao</td>\n",
       "      <td>Sim</td>\n",
       "      <td>Nao</td>\n",
       "      <td>Sim</td>\n",
       "      <td>Nao</td>\n",
       "      <td>Sim</td>\n",
       "      <td>Sim</td>\n",
       "      <td>Nao</td>\n",
       "      <td>1</td>\n",
       "    </tr>\n",
       "    <tr>\n",
       "      <th>3</th>\n",
       "      <td>4</td>\n",
       "      <td>45</td>\n",
       "      <td>Masculino</td>\n",
       "      <td>Nao</td>\n",
       "      <td>Nao</td>\n",
       "      <td>Sim</td>\n",
       "      <td>Sim</td>\n",
       "      <td>Sim</td>\n",
       "      <td>Sim</td>\n",
       "      <td>Nao</td>\n",
       "      <td>Sim</td>\n",
       "      <td>Nao</td>\n",
       "      <td>Sim</td>\n",
       "      <td>Nao</td>\n",
       "      <td>Nao</td>\n",
       "      <td>Nao</td>\n",
       "      <td>Nao</td>\n",
       "      <td>1</td>\n",
       "    </tr>\n",
       "    <tr>\n",
       "      <th>4</th>\n",
       "      <td>5</td>\n",
       "      <td>60</td>\n",
       "      <td>Masculino</td>\n",
       "      <td>Sim</td>\n",
       "      <td>Sim</td>\n",
       "      <td>Sim</td>\n",
       "      <td>Sim</td>\n",
       "      <td>Sim</td>\n",
       "      <td>Nao</td>\n",
       "      <td>Sim</td>\n",
       "      <td>Sim</td>\n",
       "      <td>Sim</td>\n",
       "      <td>Sim</td>\n",
       "      <td>Sim</td>\n",
       "      <td>Sim</td>\n",
       "      <td>Sim</td>\n",
       "      <td>Sim</td>\n",
       "      <td>1</td>\n",
       "    </tr>\n",
       "    <tr>\n",
       "      <th>5</th>\n",
       "      <td>6</td>\n",
       "      <td>55</td>\n",
       "      <td>Masculino</td>\n",
       "      <td>Sim</td>\n",
       "      <td>Sim</td>\n",
       "      <td>Nao</td>\n",
       "      <td>Sim</td>\n",
       "      <td>Sim</td>\n",
       "      <td>Nao</td>\n",
       "      <td>Sim</td>\n",
       "      <td>Sim</td>\n",
       "      <td>Nao</td>\n",
       "      <td>Sim</td>\n",
       "      <td>Nao</td>\n",
       "      <td>Sim</td>\n",
       "      <td>Sim</td>\n",
       "      <td>Sim</td>\n",
       "      <td>1</td>\n",
       "    </tr>\n",
       "    <tr>\n",
       "      <th>6</th>\n",
       "      <td>7</td>\n",
       "      <td>57</td>\n",
       "      <td>Masculino</td>\n",
       "      <td>Sim</td>\n",
       "      <td>Sim</td>\n",
       "      <td>Nao</td>\n",
       "      <td>Sim</td>\n",
       "      <td>Sim</td>\n",
       "      <td>Sim</td>\n",
       "      <td>Nao</td>\n",
       "      <td>Nao</td>\n",
       "      <td>Nao</td>\n",
       "      <td>Sim</td>\n",
       "      <td>Sim</td>\n",
       "      <td>Nao</td>\n",
       "      <td>Nao</td>\n",
       "      <td>Nao</td>\n",
       "      <td>1</td>\n",
       "    </tr>\n",
       "    <tr>\n",
       "      <th>7</th>\n",
       "      <td>8</td>\n",
       "      <td>66</td>\n",
       "      <td>Masculino</td>\n",
       "      <td>Sim</td>\n",
       "      <td>Sim</td>\n",
       "      <td>Sim</td>\n",
       "      <td>Sim</td>\n",
       "      <td>Nao</td>\n",
       "      <td>Nao</td>\n",
       "      <td>Sim</td>\n",
       "      <td>Sim</td>\n",
       "      <td>Sim</td>\n",
       "      <td>Nao</td>\n",
       "      <td>Sim</td>\n",
       "      <td>Sim</td>\n",
       "      <td>Nao</td>\n",
       "      <td>Nao</td>\n",
       "      <td>1</td>\n",
       "    </tr>\n",
       "    <tr>\n",
       "      <th>8</th>\n",
       "      <td>9</td>\n",
       "      <td>67</td>\n",
       "      <td>Masculino</td>\n",
       "      <td>Sim</td>\n",
       "      <td>Sim</td>\n",
       "      <td>Nao</td>\n",
       "      <td>Sim</td>\n",
       "      <td>Sim</td>\n",
       "      <td>Sim</td>\n",
       "      <td>Nao</td>\n",
       "      <td>Sim</td>\n",
       "      <td>Sim</td>\n",
       "      <td>Nao</td>\n",
       "      <td>Sim</td>\n",
       "      <td>Sim</td>\n",
       "      <td>Nao</td>\n",
       "      <td>Sim</td>\n",
       "      <td>1</td>\n",
       "    </tr>\n",
       "    <tr>\n",
       "      <th>9</th>\n",
       "      <td>10</td>\n",
       "      <td>70</td>\n",
       "      <td>Masculino</td>\n",
       "      <td>Nao</td>\n",
       "      <td>Sim</td>\n",
       "      <td>Sim</td>\n",
       "      <td>Sim</td>\n",
       "      <td>Sim</td>\n",
       "      <td>Nao</td>\n",
       "      <td>Sim</td>\n",
       "      <td>Sim</td>\n",
       "      <td>Sim</td>\n",
       "      <td>Nao</td>\n",
       "      <td>Nao</td>\n",
       "      <td>Nao</td>\n",
       "      <td>Sim</td>\n",
       "      <td>Nao</td>\n",
       "      <td>1</td>\n",
       "    </tr>\n",
       "  </tbody>\n",
       "</table>\n",
       "</div>"
      ],
      "text/plain": [
       "   id  idade     genero poliúria polidipsia Perda_peso_repentina fraqueza  \\\n",
       "0   1     40  Masculino      Nao        Sim                  Nao      Sim   \n",
       "1   2     58  Masculino      Nao        Nao                  Nao      Sim   \n",
       "2   3     41  Masculino      Sim        Nao                  Nao      Sim   \n",
       "3   4     45  Masculino      Nao        Nao                  Sim      Sim   \n",
       "4   5     60  Masculino      Sim        Sim                  Sim      Sim   \n",
       "5   6     55  Masculino      Sim        Sim                  Nao      Sim   \n",
       "6   7     57  Masculino      Sim        Sim                  Nao      Sim   \n",
       "7   8     66  Masculino      Sim        Sim                  Sim      Sim   \n",
       "8   9     67  Masculino      Sim        Sim                  Nao      Sim   \n",
       "9  10     70  Masculino      Nao        Sim                  Sim      Sim   \n",
       "\n",
       "  polifagia candidiase_genital desfoque_visual coceira irritabilidade  \\\n",
       "0       Nao                Nao             Nao     Sim            Nao   \n",
       "1       Nao                Nao             Sim     Nao            Nao   \n",
       "2       Sim                Nao             Nao     Sim            Nao   \n",
       "3       Sim                Sim             Nao     Sim            Nao   \n",
       "4       Sim                Nao             Sim     Sim            Sim   \n",
       "5       Sim                Nao             Sim     Sim            Nao   \n",
       "6       Sim                Sim             Nao     Nao            Nao   \n",
       "7       Nao                Nao             Sim     Sim            Sim   \n",
       "8       Sim                Sim             Nao     Sim            Sim   \n",
       "9       Sim                Nao             Sim     Sim            Sim   \n",
       "\n",
       "  cura_atrasada partial_paresis rigidez_muscular calvicie obesidade  Resultado  \n",
       "0           Sim             Nao              Sim      Sim       Sim          1  \n",
       "1           Nao             Sim              Nao      Sim       Nao          1  \n",
       "2           Sim             Nao              Sim      Sim       Nao          1  \n",
       "3           Sim             Nao              Nao      Nao       Nao          1  \n",
       "4           Sim             Sim              Sim      Sim       Sim          1  \n",
       "5           Sim             Nao              Sim      Sim       Sim          1  \n",
       "6           Sim             Sim              Nao      Nao       Nao          1  \n",
       "7           Nao             Sim              Sim      Nao       Nao          1  \n",
       "8           Nao             Sim              Sim      Nao       Sim          1  \n",
       "9           Nao             Nao              Nao      Sim       Nao          1  "
      ]
     },
     "execution_count": 3,
     "metadata": {},
     "output_type": "execute_result"
    }
   ],
   "source": [
    "df.head(10)"
   ]
  },
  {
   "cell_type": "code",
   "execution_count": 4,
   "id": "b35b5877",
   "metadata": {},
   "outputs": [
    {
     "data": {
      "text/plain": [
       "(500, 18)"
      ]
     },
     "execution_count": 4,
     "metadata": {},
     "output_type": "execute_result"
    }
   ],
   "source": [
    "df.shape"
   ]
  },
  {
   "cell_type": "markdown",
   "id": "47e961bb",
   "metadata": {},
   "source": [
    "# <font color='blue'> Análise Exploratória de Dados </font>"
   ]
  },
  {
   "cell_type": "code",
   "execution_count": 5,
   "id": "e9b3a4c7",
   "metadata": {},
   "outputs": [
    {
     "data": {
      "text/plain": [
       "id                       int64\n",
       "idade                    int64\n",
       "genero                  object\n",
       "poliúria                object\n",
       "polidipsia              object\n",
       "Perda_peso_repentina    object\n",
       "fraqueza                object\n",
       "polifagia               object\n",
       "candidiase_genital      object\n",
       "desfoque_visual         object\n",
       "coceira                 object\n",
       "irritabilidade          object\n",
       "cura_atrasada           object\n",
       "partial_paresis         object\n",
       "rigidez_muscular        object\n",
       "calvicie                object\n",
       "obesidade               object\n",
       "Resultado                int64\n",
       "dtype: object"
      ]
     },
     "execution_count": 5,
     "metadata": {},
     "output_type": "execute_result"
    }
   ],
   "source": [
    "df.dtypes"
   ]
  },
  {
   "cell_type": "code",
   "execution_count": 6,
   "id": "19e84830",
   "metadata": {},
   "outputs": [
    {
     "data": {
      "image/png": "[encoded data removed]",
      "text/plain": [
       "<Figure size 576x360 with 1 Axes>"
      ]
     },
     "metadata": {
      "needs_background": "light"
     },
     "output_type": "display_data"
    }
   ],
   "source": [
    "# Plot \n",
    "df['idade'].hist(figsize = (8,5), bins = 10) \n",
    "plt.show()"
   ]
  },
  {
   "cell_type": "markdown",
   "id": "4810a536",
   "metadata": {},
   "source": [
    "## Explorando as Variáveis Categóricas"
   ]
  },
  {
   "cell_type": "code",
   "execution_count": 7,
   "id": "65a6f6f4",
   "metadata": {
    "scrolled": true
   },
   "outputs": [
    {
     "data": {
      "text/html": [
       "<div>\n",
       "<style scoped>\n",
       "    .dataframe tbody tr th:only-of-type {\n",
       "        vertical-align: middle;\n",
       "    }\n",
       "\n",
       "    .dataframe tbody tr th {\n",
       "        vertical-align: top;\n",
       "    }\n",
       "\n",
       "    .dataframe thead th {\n",
       "        text-align: right;\n",
       "    }\n",
       "</style>\n",
       "<table border=\"1\" class=\"dataframe\">\n",
       "  <thead>\n",
       "    <tr style=\"text-align: right;\">\n",
       "      <th></th>\n",
       "      <th>genero</th>\n",
       "      <th>poliúria</th>\n",
       "      <th>polidipsia</th>\n",
       "      <th>Perda_peso_repentina</th>\n",
       "      <th>fraqueza</th>\n",
       "      <th>polifagia</th>\n",
       "      <th>candidiase_genital</th>\n",
       "      <th>desfoque_visual</th>\n",
       "      <th>coceira</th>\n",
       "      <th>irritabilidade</th>\n",
       "      <th>cura_atrasada</th>\n",
       "      <th>partial_paresis</th>\n",
       "      <th>rigidez_muscular</th>\n",
       "      <th>calvicie</th>\n",
       "      <th>obesidade</th>\n",
       "    </tr>\n",
       "  </thead>\n",
       "  <tbody>\n",
       "    <tr>\n",
       "      <th>count</th>\n",
       "      <td>500</td>\n",
       "      <td>500</td>\n",
       "      <td>500</td>\n",
       "      <td>500</td>\n",
       "      <td>500</td>\n",
       "      <td>500</td>\n",
       "      <td>500</td>\n",
       "      <td>500</td>\n",
       "      <td>500</td>\n",
       "      <td>500</td>\n",
       "      <td>500</td>\n",
       "      <td>500</td>\n",
       "      <td>500</td>\n",
       "      <td>500</td>\n",
       "      <td>500</td>\n",
       "    </tr>\n",
       "    <tr>\n",
       "      <th>unique</th>\n",
       "      <td>2</td>\n",
       "      <td>2</td>\n",
       "      <td>2</td>\n",
       "      <td>2</td>\n",
       "      <td>2</td>\n",
       "      <td>2</td>\n",
       "      <td>2</td>\n",
       "      <td>2</td>\n",
       "      <td>2</td>\n",
       "      <td>2</td>\n",
       "      <td>2</td>\n",
       "      <td>2</td>\n",
       "      <td>2</td>\n",
       "      <td>2</td>\n",
       "      <td>2</td>\n",
       "    </tr>\n",
       "    <tr>\n",
       "      <th>top</th>\n",
       "      <td>Masculino</td>\n",
       "      <td>Sim</td>\n",
       "      <td>Nao</td>\n",
       "      <td>Nao</td>\n",
       "      <td>Sim</td>\n",
       "      <td>Nao</td>\n",
       "      <td>Nao</td>\n",
       "      <td>Nao</td>\n",
       "      <td>Nao</td>\n",
       "      <td>Nao</td>\n",
       "      <td>Nao</td>\n",
       "      <td>Nao</td>\n",
       "      <td>Nao</td>\n",
       "      <td>Nao</td>\n",
       "      <td>Nao</td>\n",
       "    </tr>\n",
       "    <tr>\n",
       "      <th>freq</th>\n",
       "      <td>314</td>\n",
       "      <td>251</td>\n",
       "      <td>272</td>\n",
       "      <td>290</td>\n",
       "      <td>296</td>\n",
       "      <td>270</td>\n",
       "      <td>386</td>\n",
       "      <td>273</td>\n",
       "      <td>256</td>\n",
       "      <td>376</td>\n",
       "      <td>269</td>\n",
       "      <td>283</td>\n",
       "      <td>310</td>\n",
       "      <td>329</td>\n",
       "      <td>415</td>\n",
       "    </tr>\n",
       "  </tbody>\n",
       "</table>\n",
       "</div>"
      ],
      "text/plain": [
       "           genero poliúria polidipsia Perda_peso_repentina fraqueza polifagia  \\\n",
       "count         500      500        500                  500      500       500   \n",
       "unique          2        2          2                    2        2         2   \n",
       "top     Masculino      Sim        Nao                  Nao      Sim       Nao   \n",
       "freq          314      251        272                  290      296       270   \n",
       "\n",
       "       candidiase_genital desfoque_visual coceira irritabilidade  \\\n",
       "count                 500             500     500            500   \n",
       "unique                  2               2       2              2   \n",
       "top                   Nao             Nao     Nao            Nao   \n",
       "freq                  386             273     256            376   \n",
       "\n",
       "       cura_atrasada partial_paresis rigidez_muscular calvicie obesidade  \n",
       "count            500             500              500      500       500  \n",
       "unique             2               2                2        2         2  \n",
       "top              Nao             Nao              Nao      Nao       Nao  \n",
       "freq             269             283              310      329       415  "
      ]
     },
     "execution_count": 7,
     "metadata": {},
     "output_type": "execute_result"
    }
   ],
   "source": [
    "df.describe(include = ['object'])"
   ]
  },
  {
   "cell_type": "markdown",
   "id": "f01eece6",
   "metadata": {},
   "source": [
    "## Colunas Categóricas x Variável Target(Resultado)"
   ]
  },
  {
   "cell_type": "code",
   "execution_count": 8,
   "id": "2aeac132",
   "metadata": {},
   "outputs": [
    {
     "data": {
      "image/png": "[encoded data removed]",
      "text/plain": [
       "<Figure size 720x432 with 1 Axes>"
      ]
     },
     "metadata": {
      "needs_background": "light"
     },
     "output_type": "display_data"
    }
   ],
   "source": [
    "# Agrupamos os dados para análise\n",
    "df_group1 = df.groupby(['Resultado', 'poliúria']).agg({'id' : 'nunique'}).reset_index()\n",
    "df_group2 = df.groupby('poliúria').agg({'id' : 'nunique'}).reset_index() \n",
    "df_group3 = df_group1.merge(df_group2, on = 'poliúria')\n",
    "df_group3['Percentual(%)'] = df_group3['id_x'] / df_group3['id_y'] * 100\n",
    "df_group3.columns = ['Resultado de Diabetes', \n",
    "                     'Poliúria', \n",
    "                     'Total Por Resultado', \n",
    "                     'Total Geral', \n",
    "                     'Percentual(%)']\n",
    "# Tamanho da figura\n",
    "plt.figure(figsize = (10,6))\n",
    "\n",
    "# Chart\n",
    "chart = sns.barplot(x = 'Poliúria', \n",
    "                    y = 'Percentual(%)', \n",
    "                    data = df_group3, \n",
    "                    hue = 'Resultado de Diabetes',\n",
    "                    palette = [\"orange\",\"green\"])\n",
    "\n",
    "# Estilo e labels\n",
    "sns.set(font_scale = 1.5)\n",
    "sns.set_style('whitegrid')\n",
    "sns.set_palette('prism')\n",
    "chart.set_xlabel(\"\\n Se o paciente esta tendo um volume excessivo de urina\", fontsize = 14)\n",
    "chart.set_ylabel(\"Percentual (%)\", fontsize = 14)\n",
    "\n",
    "# Legenda\n",
    "plt.legend(loc = 'upper left', \n",
    "           borderpad = 1.5, \n",
    "           labelspacing = 1.5, \n",
    "           fontsize = 9, \n",
    "           title = 'Resultado')\n",
    "\n",
    "# Título\n",
    "chart.text(x = -0.5, \n",
    "           y = 70, \n",
    "           s = \"\",\n",
    "           fontsize = 25, \n",
    "           weight = 'bold', \n",
    "           alpha = .75)\n",
    "\n",
    "# Sub-título\n",
    "chart.text(x = -0.5, \n",
    "           y = 64,\n",
    "           s = '',\n",
    "           fontsize = 16, \n",
    "           alpha = .85);"
   ]
  },
  {
   "cell_type": "code",
   "execution_count": 9,
   "id": "73f96426",
   "metadata": {},
   "outputs": [
    {
     "data": {
      "image/png": "[encoded data removed]",
      "text/plain": [
       "<Figure size 720x432 with 1 Axes>"
      ]
     },
     "metadata": {},
     "output_type": "display_data"
    }
   ],
   "source": [
    "df_group4 = df.groupby(['Resultado', 'polidipsia']).agg({'id' : 'nunique'}).reset_index()\n",
    "df_group5 = df.groupby('polidipsia').agg({'id' : 'nunique'}).reset_index() \n",
    "df_group6 = df_group4.merge(df_group5, on = 'polidipsia')\n",
    "df_group6['Percentual(%)'] = df_group6['id_x'] / df_group6['id_y'] * 100\n",
    "df_group6.columns = ['Resultado de Diabetes', \n",
    "                     'polidipsia', \n",
    "                     'Total Por Resultado', \n",
    "                     'Total Geral', \n",
    "                     'Percentual(%)']\n",
    "# Tamanho da figura\n",
    "plt.figure(figsize = (10,6))\n",
    "\n",
    "# Chart\n",
    "chart = sns.barplot(x = 'polidipsia', \n",
    "                    y = 'Percentual(%)', \n",
    "                    data = df_group6, \n",
    "                    hue = 'Resultado de Diabetes',\n",
    "                    palette = [\"orange\",\"green\"])\n",
    "\n",
    "# Estilo e labels\n",
    "sns.set(font_scale = 1.5)\n",
    "sns.set_style('whitegrid')\n",
    "sns.set_palette('prism')\n",
    "chart.set_xlabel(\"\\n Se o paciente esta tendo uma sede excessiva\", fontsize = 14)\n",
    "chart.set_ylabel(\"Percentual (%)\", fontsize = 14)\n",
    "\n",
    "# Legenda\n",
    "plt.legend(loc = 'upper left', \n",
    "           borderpad = 1.5, \n",
    "           labelspacing = 1.5, \n",
    "           fontsize = 9, \n",
    "           title = 'Resultado')\n",
    "\n",
    "# Título\n",
    "chart.text(x = -0.5, \n",
    "           y = 70, \n",
    "           s = \"\",\n",
    "           fontsize = 25, \n",
    "           weight = 'bold', \n",
    "           alpha = .75)\n",
    "\n",
    "# Sub-título\n",
    "chart.text(x = -0.5, \n",
    "           y = 64,\n",
    "           s = '',\n",
    "           fontsize = 16, \n",
    "           alpha = .85);\n"
   ]
  },
  {
   "cell_type": "code",
   "execution_count": 10,
   "id": "79eb61fd",
   "metadata": {},
   "outputs": [
    {
     "data": {
      "image/png": "[encoded data removed]",
      "text/plain": [
       "<Figure size 720x432 with 1 Axes>"
      ]
     },
     "metadata": {},
     "output_type": "display_data"
    }
   ],
   "source": [
    "df_group7 = df.groupby(['Resultado', 'Perda_peso_repentina']).agg({'id' : 'nunique'}).reset_index()\n",
    "df_group8 = df.groupby('Perda_peso_repentina').agg({'id' : 'nunique'}).reset_index() \n",
    "df_group9 = df_group7.merge(df_group8, on = 'Perda_peso_repentina')\n",
    "df_group9['Percentual(%)'] = df_group9['id_x'] / df_group9['id_y'] * 100\n",
    "df_group9.columns = ['Resultado de Diabetes', \n",
    "                     'Perda_peso_repentina', \n",
    "                     'Total Por Resultado', \n",
    "                     'Total Geral', \n",
    "                     'Percentual(%)']\n",
    "# Tamanho da figura\n",
    "plt.figure(figsize = (10,6))\n",
    "\n",
    "# Chart\n",
    "chart = sns.barplot(x = 'Perda_peso_repentina', \n",
    "                    y = 'Percentual(%)', \n",
    "                    data = df_group9, \n",
    "                    hue = 'Resultado de Diabetes',\n",
    "                    palette = [\"orange\",\"green\"])\n",
    "\n",
    "# Estilo e labels\n",
    "sns.set(font_scale = 1.5)\n",
    "sns.set_style('whitegrid')\n",
    "sns.set_palette('prism')\n",
    "chart.set_xlabel(\"\\n Se o paciente teve um episódio de perda súbita de peso\", fontsize = 14)\n",
    "chart.set_ylabel(\"Percentual (%)\", fontsize = 14)\n",
    "\n",
    "# Legenda\n",
    "plt.legend(loc = 'upper left', \n",
    "           borderpad = 1.5, \n",
    "           labelspacing = 1.5, \n",
    "           fontsize = 9, \n",
    "           title = 'Resultado')\n",
    "\n",
    "# Título\n",
    "chart.text(x = -0.5, \n",
    "           y = 70, \n",
    "           s = \"\",\n",
    "           fontsize = 25, \n",
    "           weight = 'bold', \n",
    "           alpha = .75)\n",
    "\n",
    "# Sub-título\n",
    "chart.text(x = -0.5, \n",
    "           y = 64,\n",
    "           s = '',\n",
    "           fontsize = 16, \n",
    "           alpha = .85);\n"
   ]
  },
  {
   "cell_type": "code",
   "execution_count": 11,
   "id": "58999636",
   "metadata": {},
   "outputs": [
    {
     "data": {
      "image/png": "[encoded data removed]",
      "text/plain": [
       "<Figure size 720x432 with 1 Axes>"
      ]
     },
     "metadata": {},
     "output_type": "display_data"
    }
   ],
   "source": [
    "df_group10 = df.groupby(['Resultado', 'cura_atrasada']).agg({'id' : 'nunique'}).reset_index()\n",
    "df_group11 = df.groupby('cura_atrasada').agg({'id' : 'nunique'}).reset_index() \n",
    "df_group12 = df_group10.merge(df_group11, on = 'cura_atrasada')\n",
    "df_group12['Percentual(%)'] = df_group12['id_x'] / df_group12['id_y'] * 100\n",
    "df_group12.columns = ['Resultado de Diabetes', \n",
    "                     'cura_atrasada', \n",
    "                     'Total Por Resultado', \n",
    "                     'Total Geral', \n",
    "                     'Percentual(%)']\n",
    "# Tamanho da figura\n",
    "plt.figure(figsize = (10,6))\n",
    "\n",
    "# Chart\n",
    "chart = sns.barplot(x = 'cura_atrasada', \n",
    "                    y = 'Percentual(%)', \n",
    "                    data = df_group12, \n",
    "                    hue = 'Resultado de Diabetes',\n",
    "                    palette = [\"orange\",\"green\"])\n",
    "\n",
    "# Estilo e labels\n",
    "sns.set(font_scale = 1.5)\n",
    "sns.set_style('whitegrid')\n",
    "sns.set_palette('prism')\n",
    "chart.set_xlabel(\"\\n Se o paciente teve uma cura tardia notada quando ferido\", fontsize = 14)\n",
    "chart.set_ylabel(\"Percentual (%)\", fontsize = 14)\n",
    "\n",
    "# Legenda\n",
    "plt.legend(loc = 'upper left', \n",
    "           borderpad = 1.5, \n",
    "           labelspacing = 1.5, \n",
    "           fontsize = 9, \n",
    "           title = 'Resultado')\n",
    "\n",
    "# Título\n",
    "chart.text(x = -0.5, \n",
    "           y = 70, \n",
    "           s = \"\",\n",
    "           fontsize = 25, \n",
    "           weight = 'bold', \n",
    "           alpha = .75)\n",
    "\n",
    "# Sub-título\n",
    "chart.text(x = -0.5, \n",
    "           y = 64,\n",
    "           s = '',\n",
    "           fontsize = 16, \n",
    "           alpha = .85);\n"
   ]
  },
  {
   "cell_type": "code",
   "execution_count": 12,
   "id": "bfb5943c",
   "metadata": {},
   "outputs": [
    {
     "data": {
      "image/png": "[encoded data removed]",
      "text/plain": [
       "<Figure size 720x432 with 1 Axes>"
      ]
     },
     "metadata": {},
     "output_type": "display_data"
    }
   ],
   "source": [
    "df_group13 = df.groupby(['Resultado', 'desfoque_visual']).agg({'id' : 'nunique'}).reset_index()\n",
    "df_group14 = df.groupby('desfoque_visual').agg({'id' : 'nunique'}).reset_index() \n",
    "df_group15 = df_group13.merge(df_group14, on = 'desfoque_visual')\n",
    "df_group15['Percentual(%)'] = df_group15['id_x'] / df_group15['id_y'] * 100\n",
    "df_group15.columns = ['Resultado de Diabetes', \n",
    "                     'desfoque_visual', \n",
    "                     'Total Por Resultado', \n",
    "                     'Total Geral', \n",
    "                     'Percentual(%)']\n",
    "# Tamanho da figura\n",
    "plt.figure(figsize = (10,6))\n",
    "\n",
    "# Chart\n",
    "chart = sns.barplot(x = 'desfoque_visual', \n",
    "                    y = 'Percentual(%)', \n",
    "                    data = df_group15, \n",
    "                    hue = 'Resultado de Diabetes',\n",
    "                    palette = [\"orange\",\"green\"])\n",
    "\n",
    "# Estilo e labels\n",
    "sns.set(font_scale = 1.5)\n",
    "sns.set_style('whitegrid')\n",
    "sns.set_palette('prism')\n",
    "chart.set_xlabel(\"\\n  Se o paciente teve um episódio de visão turva\", fontsize = 14)\n",
    "chart.set_ylabel(\"Percentual (%)\", fontsize = 14)\n",
    "\n",
    "# Legenda\n",
    "plt.legend(loc = 'upper left', \n",
    "           borderpad = 1.5, \n",
    "           labelspacing = 1.5, \n",
    "           fontsize = 9, \n",
    "           title = 'Resultado')\n",
    "\n",
    "# Título\n",
    "chart.text(x = -0.5, \n",
    "           y = 70, \n",
    "           s = \"\",\n",
    "           fontsize = 25, \n",
    "           weight = 'bold', \n",
    "           alpha = .75)\n",
    "\n",
    "# Sub-título\n",
    "chart.text(x = -0.5, \n",
    "           y = 64,\n",
    "           s = '',\n",
    "           fontsize = 16, \n",
    "           alpha = .85);"
   ]
  },
  {
   "cell_type": "code",
   "execution_count": 13,
   "id": "187ef513",
   "metadata": {},
   "outputs": [],
   "source": [
    "df['Faixa_Etaria'] = np.where(\n",
    "        (df['idade'] >= 16) & (df['idade'] < 36 ), \"16-35\", \n",
    "    np.where(\n",
    "        (df['idade'] >= 36) & (df['idade'] < 51 ),\"36-50\", \n",
    "    np.where(\n",
    "        (df['idade'] >= 51) &  (df['idade'] < 91 ), \"51-90\" , 'x')))"
   ]
  },
  {
   "cell_type": "code",
   "execution_count": 14,
   "id": "a2575793",
   "metadata": {},
   "outputs": [
    {
     "data": {
      "image/png": "[encoded data removed]",
      "text/plain": [
       "<Figure size 720x432 with 1 Axes>"
      ]
     },
     "metadata": {},
     "output_type": "display_data"
    }
   ],
   "source": [
    "df_group16 = df.groupby(['Resultado', 'Faixa_Etaria']).agg({'id' : 'nunique'}).reset_index()\n",
    "df_group17 = df.groupby('Faixa_Etaria').agg({'id' : 'nunique'}).reset_index() \n",
    "df_group18 = df_group16.merge(df_group17, on = 'Faixa_Etaria')\n",
    "df_group18['Percentual(%)'] = df_group18['id_x'] / df_group18['id_y'] * 100\n",
    "df_group18.columns = ['Resultado de Diabetes', \n",
    "                     'Faixa_Etaria', \n",
    "                     'Total Por Resultado', \n",
    "                     'Total Geral', \n",
    "                     'Percentual(%)']\n",
    "# Tamanho da figura\n",
    "plt.figure(figsize = (10,6))\n",
    "\n",
    "# Chart\n",
    "chart = sns.barplot(x = 'Faixa_Etaria', \n",
    "                    y = 'Percentual(%)', \n",
    "                    data = df_group18, \n",
    "                    hue = 'Resultado de Diabetes',\n",
    "                    palette = [\"orange\",\"green\"])\n",
    "\n",
    "# Estilo e labels\n",
    "sns.set(font_scale = 1.5)\n",
    "sns.set_style('whitegrid')\n",
    "sns.set_palette('prism')\n",
    "chart.set_xlabel(\"\\n  Faixa Etaria do paciente\", fontsize = 14)\n",
    "chart.set_ylabel(\"Percentual (%)\", fontsize = 14)\n",
    "\n",
    "# Legenda\n",
    "plt.legend(loc = 'upper left', \n",
    "           borderpad = 1.5, \n",
    "           labelspacing = 1.5, \n",
    "           fontsize = 9, \n",
    "           title = 'Resultado')\n",
    "\n",
    "# Título\n",
    "chart.text(x = -0.5, \n",
    "           y = 70, \n",
    "           s = \"\",\n",
    "           fontsize = 25, \n",
    "           weight = 'bold', \n",
    "           alpha = .75)\n",
    "\n",
    "# Sub-título\n",
    "chart.text(x = -0.5, \n",
    "           y = 64,\n",
    "           s = '',\n",
    "           fontsize = 16, \n",
    "           alpha = .85);"
   ]
  },
  {
   "cell_type": "markdown",
   "id": "a1b14d7e",
   "metadata": {},
   "source": [
    "# Apartir dos graficos ilustrados acima podemos observar que:\n",
    "\n",
    "* *89%* dos pacientes que apresentaram ter *um volume excessivo de urina* foram diagnosticado com diabete.\n",
    "* *95%* dos pacientes que apresentaram ter *uma sede excessiva* foram diagnosticado com diabete.\n",
    "* *84%* dos pacientes que apresentaram ter *episódio de perda súbita de peso* foram diagnosticado com diabete.\n",
    "* *63%* dos pacientes que apresentaram ter *uma cura tardia notada quando ferido* foram diagnosticado com diabete.\n",
    "* *75%* dos pacientes que apresentaram ter *um episódio de visão turva* foram diagnosticado com diabete.\n",
    "* *68%* dos pacientes que estao na faixa etaria de *51-90* anos foram diagnosticado com diabete.\n",
    "* *62%* dos pacientes que estao na faixa etaria de *36-50* anos foram diagnosticado com diabete.\n",
    "* *55%* dos pacientes que estao na faixa etaria de *16-35* anos foram diagnosticado com diabete."
   ]
  },
  {
   "cell_type": "markdown",
   "id": "fb2ebec9",
   "metadata": {},
   "source": [
    "## <font color='blue'> Pré-Processamento de Dados Para Construção de Modelos de Machine Learning </font>\n"
   ]
  },
  {
   "cell_type": "code",
   "execution_count": 15,
   "id": "420a8450",
   "metadata": {},
   "outputs": [
    {
     "data": {
      "text/plain": [
       "Index(['id', 'idade', 'genero', 'poliúria', 'polidipsia',\n",
       "       'Perda_peso_repentina', 'fraqueza', 'polifagia', 'candidiase_genital',\n",
       "       'desfoque_visual', 'coceira', 'irritabilidade', 'cura_atrasada',\n",
       "       'partial_paresis', 'rigidez_muscular', 'calvicie', 'obesidade',\n",
       "       'Resultado', 'Faixa_Etaria'],\n",
       "      dtype='object')"
      ]
     },
     "execution_count": 15,
     "metadata": {},
     "output_type": "execute_result"
    }
   ],
   "source": [
    "df.columns"
   ]
  },
  {
   "cell_type": "markdown",
   "id": "5d63c24a",
   "metadata": {},
   "source": [
    "### Transformando os valores das variaveis categoricas para valores numericos"
   ]
  },
  {
   "cell_type": "code",
   "execution_count": 16,
   "id": "75edded6",
   "metadata": {},
   "outputs": [],
   "source": [
    "df['genero'] = np.where(\n",
    "        (df['genero'] == 'Masculino'), 1, \n",
    "    np.where(\n",
    "        (df['genero'] == 'Femenino'), 0 , 'x'))"
   ]
  },
  {
   "cell_type": "code",
   "execution_count": 17,
   "id": "a3c77cb0",
   "metadata": {},
   "outputs": [],
   "source": [
    "df['poliúria'] = np.where(\n",
    "        (df['poliúria'] == 'Sim'), 1, \n",
    "    np.where(\n",
    "        (df['poliúria'] == 'Nao'), 0 , 'x'))"
   ]
  },
  {
   "cell_type": "code",
   "execution_count": 18,
   "id": "a0f80659",
   "metadata": {},
   "outputs": [],
   "source": [
    "df['polidipsia'] = np.where(\n",
    "        (df['polidipsia'] == 'Sim'), 1, \n",
    "    np.where(\n",
    "        (df['polidipsia'] == 'Nao'), 0 , 'x'))"
   ]
  },
  {
   "cell_type": "code",
   "execution_count": 19,
   "id": "610e2dba",
   "metadata": {},
   "outputs": [],
   "source": [
    "df['Perda_peso_repentina'] = np.where(\n",
    "        (df['Perda_peso_repentina'] == 'Sim'), 1, \n",
    "    np.where(\n",
    "        (df['Perda_peso_repentina'] == 'Nao'), 0 , 'x'))"
   ]
  },
  {
   "cell_type": "code",
   "execution_count": 20,
   "id": "1b9f4343",
   "metadata": {},
   "outputs": [],
   "source": [
    "df['fraqueza'] = np.where(\n",
    "        (df['fraqueza'] == 'Sim'), 1, \n",
    "    np.where(\n",
    "        (df['fraqueza'] == 'Nao'), 0 , 'x'))"
   ]
  },
  {
   "cell_type": "code",
   "execution_count": 21,
   "id": "0373fbdb",
   "metadata": {},
   "outputs": [],
   "source": [
    "df['polifagia'] = np.where(\n",
    "        (df['polifagia'] == 'Sim'), 1, \n",
    "    np.where(\n",
    "        (df['polifagia'] == 'Nao'), 0 , 'x'))"
   ]
  },
  {
   "cell_type": "code",
   "execution_count": 22,
   "id": "f771cdad",
   "metadata": {},
   "outputs": [],
   "source": [
    "df['candidiase_genital'] = np.where(\n",
    "        (df['candidiase_genital'] == 'Sim'), 1, \n",
    "    np.where(\n",
    "        (df['candidiase_genital'] == 'Nao'), 0 , 'x'))"
   ]
  },
  {
   "cell_type": "code",
   "execution_count": 23,
   "id": "7fb146fe",
   "metadata": {},
   "outputs": [],
   "source": [
    "df['desfoque_visual'] = np.where(\n",
    "        (df['desfoque_visual'] == 'Sim'), 1, \n",
    "    np.where(\n",
    "        (df['desfoque_visual'] == 'Nao'), 0 , 'x'))"
   ]
  },
  {
   "cell_type": "code",
   "execution_count": 24,
   "id": "477ffadc",
   "metadata": {},
   "outputs": [],
   "source": [
    "df['coceira'] = np.where(\n",
    "        (df['coceira'] == 'Sim'), 1, \n",
    "    np.where(\n",
    "        (df['coceira'] == 'Nao'), 0 , 'x'))"
   ]
  },
  {
   "cell_type": "code",
   "execution_count": 25,
   "id": "08874f63",
   "metadata": {},
   "outputs": [],
   "source": [
    "df['irritabilidade'] = np.where(\n",
    "        (df['irritabilidade'] == 'Sim'), 1, \n",
    "    np.where(\n",
    "        (df['irritabilidade'] == 'Nao'), 0 , 'x'))"
   ]
  },
  {
   "cell_type": "code",
   "execution_count": 26,
   "id": "1395ac96",
   "metadata": {},
   "outputs": [],
   "source": [
    "df['cura_atrasada'] = np.where(\n",
    "        (df['cura_atrasada'] == 'Sim'), 1, \n",
    "    np.where(\n",
    "        (df['cura_atrasada'] == 'Nao'), 0 , 'x'))"
   ]
  },
  {
   "cell_type": "code",
   "execution_count": 27,
   "id": "299678fe",
   "metadata": {},
   "outputs": [],
   "source": [
    "df['partial_paresis'] = np.where(\n",
    "        (df['partial_paresis'] == 'Sim'), 1, \n",
    "    np.where(\n",
    "        (df['partial_paresis'] == 'Nao'), 0 , 'x'))"
   ]
  },
  {
   "cell_type": "code",
   "execution_count": 28,
   "id": "ad05aa5b",
   "metadata": {},
   "outputs": [],
   "source": [
    "df['rigidez_muscular'] = np.where(\n",
    "        (df['rigidez_muscular'] == 'Sim'), 1, \n",
    "    np.where(\n",
    "        (df['rigidez_muscular'] == 'Nao'), 0 , 'x'))"
   ]
  },
  {
   "cell_type": "code",
   "execution_count": 29,
   "id": "c731c962",
   "metadata": {},
   "outputs": [],
   "source": [
    "df['calvicie'] = np.where(\n",
    "        (df['calvicie'] == 'Sim'), 1, \n",
    "    np.where(\n",
    "        (df['calvicie'] == 'Nao'), 0 , 'x'))"
   ]
  },
  {
   "cell_type": "code",
   "execution_count": 30,
   "id": "c839f652",
   "metadata": {},
   "outputs": [],
   "source": [
    "df['obesidade'] = np.where(\n",
    "        (df['obesidade'] == 'Sim'), 1, \n",
    "    np.where(\n",
    "        (df['obesidade'] == 'Nao'), 0 , 'x'))"
   ]
  },
  {
   "cell_type": "code",
   "execution_count": 31,
   "id": "6674c797",
   "metadata": {},
   "outputs": [],
   "source": [
    "df['genero'] = df['genero'].astype(int)\n",
    "df['poliúria'] = df['poliúria'].astype(int)\n",
    "df['polidipsia'] = df['polidipsia'].astype(int)\n",
    "df['Perda_peso_repentina'] = df['Perda_peso_repentina'].astype(int)\n",
    "df['fraqueza'] = df['fraqueza'].astype(int)\n",
    "df['polifagia'] = df['polifagia'].astype(int)\n",
    "df['candidiase_genital'] = df['candidiase_genital'].astype(int)\n",
    "df['desfoque_visual'] = df['desfoque_visual'].astype(int)\n",
    "df['coceira'] = df['coceira'].astype(int)\n",
    "df['irritabilidade'] = df['irritabilidade'].astype(int)\n",
    "df['cura_atrasada'] = df['cura_atrasada'].astype(int)\n",
    "df['partial_paresis'] = df['partial_paresis'].astype(int)\n",
    "df['rigidez_muscular'] = df['rigidez_muscular'].astype(int)\n",
    "df['calvicie'] = df['calvicie'].astype(int)\n",
    "df['obesidade'] = df['obesidade'].astype(int)"
   ]
  },
  {
   "cell_type": "code",
   "execution_count": 32,
   "id": "1089b6e3",
   "metadata": {},
   "outputs": [
    {
     "data": {
      "text/plain": [
       "id                       int64\n",
       "idade                    int64\n",
       "genero                   int32\n",
       "poliúria                 int32\n",
       "polidipsia               int32\n",
       "Perda_peso_repentina     int32\n",
       "fraqueza                 int32\n",
       "polifagia                int32\n",
       "candidiase_genital       int32\n",
       "desfoque_visual          int32\n",
       "coceira                  int32\n",
       "irritabilidade           int32\n",
       "cura_atrasada            int32\n",
       "partial_paresis          int32\n",
       "rigidez_muscular         int32\n",
       "calvicie                 int32\n",
       "obesidade                int32\n",
       "Resultado                int64\n",
       "Faixa_Etaria            object\n",
       "dtype: object"
      ]
     },
     "execution_count": 32,
     "metadata": {},
     "output_type": "execute_result"
    }
   ],
   "source": [
    "df.dtypes"
   ]
  },
  {
   "cell_type": "markdown",
   "id": "a15a9a79",
   "metadata": {},
   "source": [
    "# <font color='blue'> Feature Selection </font>"
   ]
  },
  {
   "cell_type": "markdown",
   "id": "e8d9f69d",
   "metadata": {},
   "source": [
    "### Eliminando as variáveis que não serão usadas na criação do Modelo preditivo"
   ]
  },
  {
   "cell_type": "code",
   "execution_count": 33,
   "id": "23ca425a",
   "metadata": {},
   "outputs": [],
   "source": [
    "df = df.drop('id', axis = 1)"
   ]
  },
  {
   "cell_type": "code",
   "execution_count": 34,
   "id": "5c55f0b6",
   "metadata": {},
   "outputs": [],
   "source": [
    "df = df.drop('Faixa_Etaria', axis = 1)"
   ]
  },
  {
   "cell_type": "code",
   "execution_count": 35,
   "id": "8db549cb",
   "metadata": {},
   "outputs": [
    {
     "data": {
      "text/html": [
       "<div>\n",
       "<style scoped>\n",
       "    .dataframe tbody tr th:only-of-type {\n",
       "        vertical-align: middle;\n",
       "    }\n",
       "\n",
       "    .dataframe tbody tr th {\n",
       "        vertical-align: top;\n",
       "    }\n",
       "\n",
       "    .dataframe thead th {\n",
       "        text-align: right;\n",
       "    }\n",
       "</style>\n",
       "<table border=\"1\" class=\"dataframe\">\n",
       "  <thead>\n",
       "    <tr style=\"text-align: right;\">\n",
       "      <th></th>\n",
       "      <th>idade</th>\n",
       "      <th>genero</th>\n",
       "      <th>poliúria</th>\n",
       "      <th>polidipsia</th>\n",
       "      <th>Perda_peso_repentina</th>\n",
       "      <th>fraqueza</th>\n",
       "      <th>polifagia</th>\n",
       "      <th>candidiase_genital</th>\n",
       "      <th>desfoque_visual</th>\n",
       "      <th>coceira</th>\n",
       "      <th>irritabilidade</th>\n",
       "      <th>cura_atrasada</th>\n",
       "      <th>partial_paresis</th>\n",
       "      <th>rigidez_muscular</th>\n",
       "      <th>calvicie</th>\n",
       "      <th>obesidade</th>\n",
       "      <th>Resultado</th>\n",
       "    </tr>\n",
       "  </thead>\n",
       "  <tbody>\n",
       "    <tr>\n",
       "      <th>0</th>\n",
       "      <td>40</td>\n",
       "      <td>1</td>\n",
       "      <td>0</td>\n",
       "      <td>1</td>\n",
       "      <td>0</td>\n",
       "      <td>1</td>\n",
       "      <td>0</td>\n",
       "      <td>0</td>\n",
       "      <td>0</td>\n",
       "      <td>1</td>\n",
       "      <td>0</td>\n",
       "      <td>1</td>\n",
       "      <td>0</td>\n",
       "      <td>1</td>\n",
       "      <td>1</td>\n",
       "      <td>1</td>\n",
       "      <td>1</td>\n",
       "    </tr>\n",
       "    <tr>\n",
       "      <th>1</th>\n",
       "      <td>58</td>\n",
       "      <td>1</td>\n",
       "      <td>0</td>\n",
       "      <td>0</td>\n",
       "      <td>0</td>\n",
       "      <td>1</td>\n",
       "      <td>0</td>\n",
       "      <td>0</td>\n",
       "      <td>1</td>\n",
       "      <td>0</td>\n",
       "      <td>0</td>\n",
       "      <td>0</td>\n",
       "      <td>1</td>\n",
       "      <td>0</td>\n",
       "      <td>1</td>\n",
       "      <td>0</td>\n",
       "      <td>1</td>\n",
       "    </tr>\n",
       "    <tr>\n",
       "      <th>2</th>\n",
       "      <td>41</td>\n",
       "      <td>1</td>\n",
       "      <td>1</td>\n",
       "      <td>0</td>\n",
       "      <td>0</td>\n",
       "      <td>1</td>\n",
       "      <td>1</td>\n",
       "      <td>0</td>\n",
       "      <td>0</td>\n",
       "      <td>1</td>\n",
       "      <td>0</td>\n",
       "      <td>1</td>\n",
       "      <td>0</td>\n",
       "      <td>1</td>\n",
       "      <td>1</td>\n",
       "      <td>0</td>\n",
       "      <td>1</td>\n",
       "    </tr>\n",
       "    <tr>\n",
       "      <th>3</th>\n",
       "      <td>45</td>\n",
       "      <td>1</td>\n",
       "      <td>0</td>\n",
       "      <td>0</td>\n",
       "      <td>1</td>\n",
       "      <td>1</td>\n",
       "      <td>1</td>\n",
       "      <td>1</td>\n",
       "      <td>0</td>\n",
       "      <td>1</td>\n",
       "      <td>0</td>\n",
       "      <td>1</td>\n",
       "      <td>0</td>\n",
       "      <td>0</td>\n",
       "      <td>0</td>\n",
       "      <td>0</td>\n",
       "      <td>1</td>\n",
       "    </tr>\n",
       "    <tr>\n",
       "      <th>4</th>\n",
       "      <td>60</td>\n",
       "      <td>1</td>\n",
       "      <td>1</td>\n",
       "      <td>1</td>\n",
       "      <td>1</td>\n",
       "      <td>1</td>\n",
       "      <td>1</td>\n",
       "      <td>0</td>\n",
       "      <td>1</td>\n",
       "      <td>1</td>\n",
       "      <td>1</td>\n",
       "      <td>1</td>\n",
       "      <td>1</td>\n",
       "      <td>1</td>\n",
       "      <td>1</td>\n",
       "      <td>1</td>\n",
       "      <td>1</td>\n",
       "    </tr>\n",
       "    <tr>\n",
       "      <th>5</th>\n",
       "      <td>55</td>\n",
       "      <td>1</td>\n",
       "      <td>1</td>\n",
       "      <td>1</td>\n",
       "      <td>0</td>\n",
       "      <td>1</td>\n",
       "      <td>1</td>\n",
       "      <td>0</td>\n",
       "      <td>1</td>\n",
       "      <td>1</td>\n",
       "      <td>0</td>\n",
       "      <td>1</td>\n",
       "      <td>0</td>\n",
       "      <td>1</td>\n",
       "      <td>1</td>\n",
       "      <td>1</td>\n",
       "      <td>1</td>\n",
       "    </tr>\n",
       "    <tr>\n",
       "      <th>6</th>\n",
       "      <td>57</td>\n",
       "      <td>1</td>\n",
       "      <td>1</td>\n",
       "      <td>1</td>\n",
       "      <td>0</td>\n",
       "      <td>1</td>\n",
       "      <td>1</td>\n",
       "      <td>1</td>\n",
       "      <td>0</td>\n",
       "      <td>0</td>\n",
       "      <td>0</td>\n",
       "      <td>1</td>\n",
       "      <td>1</td>\n",
       "      <td>0</td>\n",
       "      <td>0</td>\n",
       "      <td>0</td>\n",
       "      <td>1</td>\n",
       "    </tr>\n",
       "    <tr>\n",
       "      <th>7</th>\n",
       "      <td>66</td>\n",
       "      <td>1</td>\n",
       "      <td>1</td>\n",
       "      <td>1</td>\n",
       "      <td>1</td>\n",
       "      <td>1</td>\n",
       "      <td>0</td>\n",
       "      <td>0</td>\n",
       "      <td>1</td>\n",
       "      <td>1</td>\n",
       "      <td>1</td>\n",
       "      <td>0</td>\n",
       "      <td>1</td>\n",
       "      <td>1</td>\n",
       "      <td>0</td>\n",
       "      <td>0</td>\n",
       "      <td>1</td>\n",
       "    </tr>\n",
       "    <tr>\n",
       "      <th>8</th>\n",
       "      <td>67</td>\n",
       "      <td>1</td>\n",
       "      <td>1</td>\n",
       "      <td>1</td>\n",
       "      <td>0</td>\n",
       "      <td>1</td>\n",
       "      <td>1</td>\n",
       "      <td>1</td>\n",
       "      <td>0</td>\n",
       "      <td>1</td>\n",
       "      <td>1</td>\n",
       "      <td>0</td>\n",
       "      <td>1</td>\n",
       "      <td>1</td>\n",
       "      <td>0</td>\n",
       "      <td>1</td>\n",
       "      <td>1</td>\n",
       "    </tr>\n",
       "    <tr>\n",
       "      <th>9</th>\n",
       "      <td>70</td>\n",
       "      <td>1</td>\n",
       "      <td>0</td>\n",
       "      <td>1</td>\n",
       "      <td>1</td>\n",
       "      <td>1</td>\n",
       "      <td>1</td>\n",
       "      <td>0</td>\n",
       "      <td>1</td>\n",
       "      <td>1</td>\n",
       "      <td>1</td>\n",
       "      <td>0</td>\n",
       "      <td>0</td>\n",
       "      <td>0</td>\n",
       "      <td>1</td>\n",
       "      <td>0</td>\n",
       "      <td>1</td>\n",
       "    </tr>\n",
       "  </tbody>\n",
       "</table>\n",
       "</div>"
      ],
      "text/plain": [
       "   idade  genero  poliúria  polidipsia  Perda_peso_repentina  fraqueza  \\\n",
       "0     40       1         0           1                     0         1   \n",
       "1     58       1         0           0                     0         1   \n",
       "2     41       1         1           0                     0         1   \n",
       "3     45       1         0           0                     1         1   \n",
       "4     60       1         1           1                     1         1   \n",
       "5     55       1         1           1                     0         1   \n",
       "6     57       1         1           1                     0         1   \n",
       "7     66       1         1           1                     1         1   \n",
       "8     67       1         1           1                     0         1   \n",
       "9     70       1         0           1                     1         1   \n",
       "\n",
       "   polifagia  candidiase_genital  desfoque_visual  coceira  irritabilidade  \\\n",
       "0          0                   0                0        1               0   \n",
       "1          0                   0                1        0               0   \n",
       "2          1                   0                0        1               0   \n",
       "3          1                   1                0        1               0   \n",
       "4          1                   0                1        1               1   \n",
       "5          1                   0                1        1               0   \n",
       "6          1                   1                0        0               0   \n",
       "7          0                   0                1        1               1   \n",
       "8          1                   1                0        1               1   \n",
       "9          1                   0                1        1               1   \n",
       "\n",
       "   cura_atrasada  partial_paresis  rigidez_muscular  calvicie  obesidade  \\\n",
       "0              1                0                 1         1          1   \n",
       "1              0                1                 0         1          0   \n",
       "2              1                0                 1         1          0   \n",
       "3              1                0                 0         0          0   \n",
       "4              1                1                 1         1          1   \n",
       "5              1                0                 1         1          1   \n",
       "6              1                1                 0         0          0   \n",
       "7              0                1                 1         0          0   \n",
       "8              0                1                 1         0          1   \n",
       "9              0                0                 0         1          0   \n",
       "\n",
       "   Resultado  \n",
       "0          1  \n",
       "1          1  \n",
       "2          1  \n",
       "3          1  \n",
       "4          1  \n",
       "5          1  \n",
       "6          1  \n",
       "7          1  \n",
       "8          1  \n",
       "9          1  "
      ]
     },
     "execution_count": 35,
     "metadata": {},
     "output_type": "execute_result"
    }
   ],
   "source": [
    "df.head(10)"
   ]
  },
  {
   "cell_type": "markdown",
   "id": "045340f7",
   "metadata": {},
   "source": [
    "### <font color='blue'> Divisão dos dados em Treino e Teste </font>"
   ]
  },
  {
   "cell_type": "code",
   "execution_count": 36,
   "id": "71043a13",
   "metadata": {},
   "outputs": [],
   "source": [
    "# Cria um objeto separado para a variável target\n",
    "y = df.Resultado"
   ]
  },
  {
   "cell_type": "code",
   "execution_count": 37,
   "id": "5017cab8",
   "metadata": {},
   "outputs": [],
   "source": [
    "# Cria um objeto separadado para as variáveis de entrada\n",
    "X = df.drop('Resultado', axis = 1)"
   ]
  },
  {
   "cell_type": "code",
   "execution_count": 38,
   "id": "dec5496e",
   "metadata": {},
   "outputs": [],
   "source": [
    "# Split em dados de treino e teste com amostragem estratificada\n",
    "X_treino, X_teste, y_treino, y_teste = train_test_split(X, \n",
    "                                                        y, \n",
    "                                                        test_size = 0.25, \n",
    "                                                        random_state = 1234,\n",
    "                                                        stratify = df.Resultado)"
   ]
  },
  {
   "cell_type": "code",
   "execution_count": 39,
   "id": "cf5c0894",
   "metadata": {},
   "outputs": [
    {
     "data": {
      "text/plain": [
       "375"
      ]
     },
     "execution_count": 39,
     "metadata": {},
     "output_type": "execute_result"
    }
   ],
   "source": [
    "len(X_treino)"
   ]
  },
  {
   "cell_type": "code",
   "execution_count": 40,
   "id": "1c4239b0",
   "metadata": {},
   "outputs": [
    {
     "data": {
      "text/plain": [
       "125"
      ]
     },
     "execution_count": 40,
     "metadata": {},
     "output_type": "execute_result"
    }
   ],
   "source": [
    "len(X_teste)"
   ]
  },
  {
   "cell_type": "code",
   "execution_count": 41,
   "id": "21d9b141",
   "metadata": {},
   "outputs": [
    {
     "name": "stdout",
     "output_type": "stream",
     "text": [
      "(375, 16) (125, 16) (375,) (125,)\n"
     ]
    }
   ],
   "source": [
    "# Print do shape\n",
    "print(X_treino.shape, X_teste.shape, y_treino.shape, y_teste.shape)"
   ]
  },
  {
   "cell_type": "code",
   "execution_count": 42,
   "id": "2d21ed11",
   "metadata": {},
   "outputs": [
    {
     "data": {
      "text/plain": [
       "1    235\n",
       "0    140\n",
       "Name: Resultado, dtype: int64"
      ]
     },
     "execution_count": 42,
     "metadata": {},
     "output_type": "execute_result"
    }
   ],
   "source": [
    "y_treino.value_counts()"
   ]
  },
  {
   "cell_type": "markdown",
   "id": "d79c5449",
   "metadata": {},
   "source": [
    "### <font color='blue'> Padronização dos Dados </font>"
   ]
  },
  {
   "cell_type": "code",
   "execution_count": 43,
   "id": "4928364a",
   "metadata": {},
   "outputs": [
    {
     "data": {
      "text/html": [
       "<div>\n",
       "<style scoped>\n",
       "    .dataframe tbody tr th:only-of-type {\n",
       "        vertical-align: middle;\n",
       "    }\n",
       "\n",
       "    .dataframe tbody tr th {\n",
       "        vertical-align: top;\n",
       "    }\n",
       "\n",
       "    .dataframe thead th {\n",
       "        text-align: right;\n",
       "    }\n",
       "</style>\n",
       "<table border=\"1\" class=\"dataframe\">\n",
       "  <thead>\n",
       "    <tr style=\"text-align: right;\">\n",
       "      <th></th>\n",
       "      <th>idade</th>\n",
       "      <th>genero</th>\n",
       "      <th>poliúria</th>\n",
       "      <th>polidipsia</th>\n",
       "      <th>Perda_peso_repentina</th>\n",
       "      <th>fraqueza</th>\n",
       "      <th>polifagia</th>\n",
       "      <th>candidiase_genital</th>\n",
       "      <th>desfoque_visual</th>\n",
       "      <th>coceira</th>\n",
       "      <th>irritabilidade</th>\n",
       "      <th>cura_atrasada</th>\n",
       "      <th>partial_paresis</th>\n",
       "      <th>rigidez_muscular</th>\n",
       "      <th>calvicie</th>\n",
       "      <th>obesidade</th>\n",
       "    </tr>\n",
       "  </thead>\n",
       "  <tbody>\n",
       "    <tr>\n",
       "      <th>271</th>\n",
       "      <td>57</td>\n",
       "      <td>1</td>\n",
       "      <td>1</td>\n",
       "      <td>1</td>\n",
       "      <td>1</td>\n",
       "      <td>1</td>\n",
       "      <td>1</td>\n",
       "      <td>0</td>\n",
       "      <td>1</td>\n",
       "      <td>0</td>\n",
       "      <td>0</td>\n",
       "      <td>0</td>\n",
       "      <td>1</td>\n",
       "      <td>0</td>\n",
       "      <td>0</td>\n",
       "      <td>0</td>\n",
       "    </tr>\n",
       "    <tr>\n",
       "      <th>469</th>\n",
       "      <td>47</td>\n",
       "      <td>1</td>\n",
       "      <td>0</td>\n",
       "      <td>0</td>\n",
       "      <td>0</td>\n",
       "      <td>0</td>\n",
       "      <td>0</td>\n",
       "      <td>0</td>\n",
       "      <td>0</td>\n",
       "      <td>1</td>\n",
       "      <td>0</td>\n",
       "      <td>0</td>\n",
       "      <td>0</td>\n",
       "      <td>0</td>\n",
       "      <td>1</td>\n",
       "      <td>0</td>\n",
       "    </tr>\n",
       "    <tr>\n",
       "      <th>385</th>\n",
       "      <td>38</td>\n",
       "      <td>1</td>\n",
       "      <td>1</td>\n",
       "      <td>0</td>\n",
       "      <td>0</td>\n",
       "      <td>0</td>\n",
       "      <td>0</td>\n",
       "      <td>1</td>\n",
       "      <td>0</td>\n",
       "      <td>1</td>\n",
       "      <td>0</td>\n",
       "      <td>0</td>\n",
       "      <td>0</td>\n",
       "      <td>1</td>\n",
       "      <td>0</td>\n",
       "      <td>1</td>\n",
       "    </tr>\n",
       "    <tr>\n",
       "      <th>392</th>\n",
       "      <td>56</td>\n",
       "      <td>1</td>\n",
       "      <td>0</td>\n",
       "      <td>0</td>\n",
       "      <td>1</td>\n",
       "      <td>1</td>\n",
       "      <td>1</td>\n",
       "      <td>0</td>\n",
       "      <td>1</td>\n",
       "      <td>1</td>\n",
       "      <td>0</td>\n",
       "      <td>1</td>\n",
       "      <td>0</td>\n",
       "      <td>1</td>\n",
       "      <td>1</td>\n",
       "      <td>0</td>\n",
       "    </tr>\n",
       "    <tr>\n",
       "      <th>204</th>\n",
       "      <td>30</td>\n",
       "      <td>1</td>\n",
       "      <td>0</td>\n",
       "      <td>0</td>\n",
       "      <td>0</td>\n",
       "      <td>0</td>\n",
       "      <td>0</td>\n",
       "      <td>0</td>\n",
       "      <td>0</td>\n",
       "      <td>0</td>\n",
       "      <td>0</td>\n",
       "      <td>0</td>\n",
       "      <td>0</td>\n",
       "      <td>0</td>\n",
       "      <td>0</td>\n",
       "      <td>0</td>\n",
       "    </tr>\n",
       "  </tbody>\n",
       "</table>\n",
       "</div>"
      ],
      "text/plain": [
       "     idade  genero  poliúria  polidipsia  Perda_peso_repentina  fraqueza  \\\n",
       "271     57       1         1           1                     1         1   \n",
       "469     47       1         0           0                     0         0   \n",
       "385     38       1         1           0                     0         0   \n",
       "392     56       1         0           0                     1         1   \n",
       "204     30       1         0           0                     0         0   \n",
       "\n",
       "     polifagia  candidiase_genital  desfoque_visual  coceira  irritabilidade  \\\n",
       "271          1                   0                1        0               0   \n",
       "469          0                   0                0        1               0   \n",
       "385          0                   1                0        1               0   \n",
       "392          1                   0                1        1               0   \n",
       "204          0                   0                0        0               0   \n",
       "\n",
       "     cura_atrasada  partial_paresis  rigidez_muscular  calvicie  obesidade  \n",
       "271              0                1                 0         0          0  \n",
       "469              0                0                 0         1          0  \n",
       "385              0                0                 1         0          1  \n",
       "392              1                0                 1         1          0  \n",
       "204              0                0                 0         0          0  "
      ]
     },
     "execution_count": 43,
     "metadata": {},
     "output_type": "execute_result"
    }
   ],
   "source": [
    "X_treino.head()"
   ]
  },
  {
   "cell_type": "markdown",
   "id": "5d1c1450",
   "metadata": {},
   "source": [
    "Calculamos média e desvio padrão dos dados de treino"
   ]
  },
  {
   "cell_type": "code",
   "execution_count": 44,
   "id": "0cdd9e24",
   "metadata": {},
   "outputs": [
    {
     "name": "stdout",
     "output_type": "stream",
     "text": [
      "idade                   47.557333\n",
      "genero                   0.621333\n",
      "poliúria                 0.506667\n",
      "polidipsia               0.456000\n",
      "Perda_peso_repentina     0.408000\n",
      "fraqueza                 0.592000\n",
      "polifagia                0.445333\n",
      "candidiase_genital       0.208000\n",
      "desfoque_visual          0.461333\n",
      "coceira                  0.469333\n",
      "irritabilidade           0.245333\n",
      "cura_atrasada            0.437333\n",
      "partial_paresis          0.442667\n",
      "rigidez_muscular         0.378667\n",
      "calvicie                 0.344000\n",
      "obesidade                0.176000\n",
      "dtype: float64\n",
      "idade                   11.931457\n",
      "genero                   0.485703\n",
      "poliúria                 0.500623\n",
      "polidipsia               0.498726\n",
      "Perda_peso_repentina     0.492120\n",
      "fraqueza                 0.492120\n",
      "polifagia                0.497667\n",
      "candidiase_genital       0.406419\n",
      "desfoque_visual          0.499169\n",
      "coceira                  0.499725\n",
      "irritabilidade           0.430860\n",
      "cura_atrasada            0.496720\n",
      "partial_paresis          0.497366\n",
      "rigidez_muscular         0.485703\n",
      "calvicie                 0.475676\n",
      "obesidade                0.381329\n",
      "dtype: float64\n"
     ]
    }
   ],
   "source": [
    "treino_mean = X_treino.mean()\n",
    "treino_std = X_treino.std()\n",
    "print(treino_mean)\n",
    "print(treino_std)"
   ]
  },
  {
   "cell_type": "markdown",
   "id": "01c49f17",
   "metadata": {},
   "source": [
    "### Padronização: Colocando os dados na mesma escala"
   ]
  },
  {
   "cell_type": "code",
   "execution_count": 45,
   "id": "b875be2c",
   "metadata": {},
   "outputs": [],
   "source": [
    "X_treino = (X_treino - treino_mean) / treino_std"
   ]
  },
  {
   "cell_type": "code",
   "execution_count": 46,
   "id": "661a7557",
   "metadata": {},
   "outputs": [
    {
     "data": {
      "text/html": [
       "<div>\n",
       "<style scoped>\n",
       "    .dataframe tbody tr th:only-of-type {\n",
       "        vertical-align: middle;\n",
       "    }\n",
       "\n",
       "    .dataframe tbody tr th {\n",
       "        vertical-align: top;\n",
       "    }\n",
       "\n",
       "    .dataframe thead th {\n",
       "        text-align: right;\n",
       "    }\n",
       "</style>\n",
       "<table border=\"1\" class=\"dataframe\">\n",
       "  <thead>\n",
       "    <tr style=\"text-align: right;\">\n",
       "      <th></th>\n",
       "      <th>idade</th>\n",
       "      <th>genero</th>\n",
       "      <th>poliúria</th>\n",
       "      <th>polidipsia</th>\n",
       "      <th>Perda_peso_repentina</th>\n",
       "      <th>fraqueza</th>\n",
       "      <th>polifagia</th>\n",
       "      <th>candidiase_genital</th>\n",
       "      <th>desfoque_visual</th>\n",
       "      <th>coceira</th>\n",
       "      <th>irritabilidade</th>\n",
       "      <th>cura_atrasada</th>\n",
       "      <th>partial_paresis</th>\n",
       "      <th>rigidez_muscular</th>\n",
       "      <th>calvicie</th>\n",
       "      <th>obesidade</th>\n",
       "    </tr>\n",
       "  </thead>\n",
       "  <tbody>\n",
       "    <tr>\n",
       "      <th>271</th>\n",
       "      <td>0.791409</td>\n",
       "      <td>0.779626</td>\n",
       "      <td>0.985438</td>\n",
       "      <td>1.09078</td>\n",
       "      <td>1.202959</td>\n",
       "      <td>0.829067</td>\n",
       "      <td>1.114535</td>\n",
       "      <td>-0.511787</td>\n",
       "      <td>1.079128</td>\n",
       "      <td>-0.939182</td>\n",
       "      <td>-0.569404</td>\n",
       "      <td>-0.880442</td>\n",
       "      <td>1.120571</td>\n",
       "      <td>-0.779626</td>\n",
       "      <td>-0.723182</td>\n",
       "      <td>-0.461544</td>\n",
       "    </tr>\n",
       "    <tr>\n",
       "      <th>469</th>\n",
       "      <td>-0.046711</td>\n",
       "      <td>0.779626</td>\n",
       "      <td>-1.012071</td>\n",
       "      <td>-0.91433</td>\n",
       "      <td>-0.829067</td>\n",
       "      <td>-1.202959</td>\n",
       "      <td>-0.894843</td>\n",
       "      <td>-0.511787</td>\n",
       "      <td>-0.924203</td>\n",
       "      <td>1.061917</td>\n",
       "      <td>-0.569404</td>\n",
       "      <td>-0.880442</td>\n",
       "      <td>-0.890023</td>\n",
       "      <td>-0.779626</td>\n",
       "      <td>1.379091</td>\n",
       "      <td>-0.461544</td>\n",
       "    </tr>\n",
       "    <tr>\n",
       "      <th>385</th>\n",
       "      <td>-0.801020</td>\n",
       "      <td>0.779626</td>\n",
       "      <td>0.985438</td>\n",
       "      <td>-0.91433</td>\n",
       "      <td>-0.829067</td>\n",
       "      <td>-1.202959</td>\n",
       "      <td>-0.894843</td>\n",
       "      <td>1.948727</td>\n",
       "      <td>-0.924203</td>\n",
       "      <td>1.061917</td>\n",
       "      <td>-0.569404</td>\n",
       "      <td>-0.880442</td>\n",
       "      <td>-0.890023</td>\n",
       "      <td>1.279246</td>\n",
       "      <td>-0.723182</td>\n",
       "      <td>2.160864</td>\n",
       "    </tr>\n",
       "    <tr>\n",
       "      <th>392</th>\n",
       "      <td>0.707597</td>\n",
       "      <td>0.779626</td>\n",
       "      <td>-1.012071</td>\n",
       "      <td>-0.91433</td>\n",
       "      <td>1.202959</td>\n",
       "      <td>0.829067</td>\n",
       "      <td>1.114535</td>\n",
       "      <td>-0.511787</td>\n",
       "      <td>1.079128</td>\n",
       "      <td>1.061917</td>\n",
       "      <td>-0.569404</td>\n",
       "      <td>1.132764</td>\n",
       "      <td>-0.890023</td>\n",
       "      <td>1.279246</td>\n",
       "      <td>1.379091</td>\n",
       "      <td>-0.461544</td>\n",
       "    </tr>\n",
       "    <tr>\n",
       "      <th>204</th>\n",
       "      <td>-1.471516</td>\n",
       "      <td>0.779626</td>\n",
       "      <td>-1.012071</td>\n",
       "      <td>-0.91433</td>\n",
       "      <td>-0.829067</td>\n",
       "      <td>-1.202959</td>\n",
       "      <td>-0.894843</td>\n",
       "      <td>-0.511787</td>\n",
       "      <td>-0.924203</td>\n",
       "      <td>-0.939182</td>\n",
       "      <td>-0.569404</td>\n",
       "      <td>-0.880442</td>\n",
       "      <td>-0.890023</td>\n",
       "      <td>-0.779626</td>\n",
       "      <td>-0.723182</td>\n",
       "      <td>-0.461544</td>\n",
       "    </tr>\n",
       "  </tbody>\n",
       "</table>\n",
       "</div>"
      ],
      "text/plain": [
       "        idade    genero  poliúria  polidipsia  Perda_peso_repentina  fraqueza  \\\n",
       "271  0.791409  0.779626  0.985438     1.09078              1.202959  0.829067   \n",
       "469 -0.046711  0.779626 -1.012071    -0.91433             -0.829067 -1.202959   \n",
       "385 -0.801020  0.779626  0.985438    -0.91433             -0.829067 -1.202959   \n",
       "392  0.707597  0.779626 -1.012071    -0.91433              1.202959  0.829067   \n",
       "204 -1.471516  0.779626 -1.012071    -0.91433             -0.829067 -1.202959   \n",
       "\n",
       "     polifagia  candidiase_genital  desfoque_visual   coceira  irritabilidade  \\\n",
       "271   1.114535           -0.511787         1.079128 -0.939182       -0.569404   \n",
       "469  -0.894843           -0.511787        -0.924203  1.061917       -0.569404   \n",
       "385  -0.894843            1.948727        -0.924203  1.061917       -0.569404   \n",
       "392   1.114535           -0.511787         1.079128  1.061917       -0.569404   \n",
       "204  -0.894843           -0.511787        -0.924203 -0.939182       -0.569404   \n",
       "\n",
       "     cura_atrasada  partial_paresis  rigidez_muscular  calvicie  obesidade  \n",
       "271      -0.880442         1.120571         -0.779626 -0.723182  -0.461544  \n",
       "469      -0.880442        -0.890023         -0.779626  1.379091  -0.461544  \n",
       "385      -0.880442        -0.890023          1.279246 -0.723182   2.160864  \n",
       "392       1.132764        -0.890023          1.279246  1.379091  -0.461544  \n",
       "204      -0.880442        -0.890023         -0.779626 -0.723182  -0.461544  "
      ]
     },
     "execution_count": 46,
     "metadata": {},
     "output_type": "execute_result"
    }
   ],
   "source": [
    "X_treino.head()"
   ]
  },
  {
   "cell_type": "code",
   "execution_count": 47,
   "id": "bab500e6",
   "metadata": {},
   "outputs": [
    {
     "data": {
      "text/html": [
       "<div>\n",
       "<style scoped>\n",
       "    .dataframe tbody tr th:only-of-type {\n",
       "        vertical-align: middle;\n",
       "    }\n",
       "\n",
       "    .dataframe tbody tr th {\n",
       "        vertical-align: top;\n",
       "    }\n",
       "\n",
       "    .dataframe thead th {\n",
       "        text-align: right;\n",
       "    }\n",
       "</style>\n",
       "<table border=\"1\" class=\"dataframe\">\n",
       "  <thead>\n",
       "    <tr style=\"text-align: right;\">\n",
       "      <th></th>\n",
       "      <th>idade</th>\n",
       "      <th>genero</th>\n",
       "      <th>poliúria</th>\n",
       "      <th>polidipsia</th>\n",
       "      <th>Perda_peso_repentina</th>\n",
       "      <th>fraqueza</th>\n",
       "      <th>polifagia</th>\n",
       "      <th>candidiase_genital</th>\n",
       "      <th>desfoque_visual</th>\n",
       "      <th>coceira</th>\n",
       "      <th>irritabilidade</th>\n",
       "      <th>cura_atrasada</th>\n",
       "      <th>partial_paresis</th>\n",
       "      <th>rigidez_muscular</th>\n",
       "      <th>calvicie</th>\n",
       "      <th>obesidade</th>\n",
       "    </tr>\n",
       "  </thead>\n",
       "  <tbody>\n",
       "    <tr>\n",
       "      <th>count</th>\n",
       "      <td>3.750000e+02</td>\n",
       "      <td>3.750000e+02</td>\n",
       "      <td>3.750000e+02</td>\n",
       "      <td>3.750000e+02</td>\n",
       "      <td>3.750000e+02</td>\n",
       "      <td>3.750000e+02</td>\n",
       "      <td>3.750000e+02</td>\n",
       "      <td>3.750000e+02</td>\n",
       "      <td>3.750000e+02</td>\n",
       "      <td>3.750000e+02</td>\n",
       "      <td>3.750000e+02</td>\n",
       "      <td>3.750000e+02</td>\n",
       "      <td>3.750000e+02</td>\n",
       "      <td>3.750000e+02</td>\n",
       "      <td>3.750000e+02</td>\n",
       "      <td>3.750000e+02</td>\n",
       "    </tr>\n",
       "    <tr>\n",
       "      <th>mean</th>\n",
       "      <td>9.000208e-17</td>\n",
       "      <td>7.401487e-17</td>\n",
       "      <td>-1.382598e-16</td>\n",
       "      <td>-6.987004e-17</td>\n",
       "      <td>1.622406e-16</td>\n",
       "      <td>-2.427688e-17</td>\n",
       "      <td>4.766558e-17</td>\n",
       "      <td>-1.894781e-17</td>\n",
       "      <td>2.948752e-16</td>\n",
       "      <td>-1.065814e-17</td>\n",
       "      <td>-1.480297e-18</td>\n",
       "      <td>-9.621933e-17</td>\n",
       "      <td>1.693460e-16</td>\n",
       "      <td>-1.373716e-16</td>\n",
       "      <td>-4.440892e-17</td>\n",
       "      <td>-1.435888e-17</td>\n",
       "    </tr>\n",
       "    <tr>\n",
       "      <th>std</th>\n",
       "      <td>1.000000e+00</td>\n",
       "      <td>1.000000e+00</td>\n",
       "      <td>1.000000e+00</td>\n",
       "      <td>1.000000e+00</td>\n",
       "      <td>1.000000e+00</td>\n",
       "      <td>1.000000e+00</td>\n",
       "      <td>1.000000e+00</td>\n",
       "      <td>1.000000e+00</td>\n",
       "      <td>1.000000e+00</td>\n",
       "      <td>1.000000e+00</td>\n",
       "      <td>1.000000e+00</td>\n",
       "      <td>1.000000e+00</td>\n",
       "      <td>1.000000e+00</td>\n",
       "      <td>1.000000e+00</td>\n",
       "      <td>1.000000e+00</td>\n",
       "      <td>1.000000e+00</td>\n",
       "    </tr>\n",
       "    <tr>\n",
       "      <th>min</th>\n",
       "      <td>-2.644885e+00</td>\n",
       "      <td>-1.279246e+00</td>\n",
       "      <td>-1.012071e+00</td>\n",
       "      <td>-9.143304e-01</td>\n",
       "      <td>-8.290666e-01</td>\n",
       "      <td>-1.202959e+00</td>\n",
       "      <td>-8.948428e-01</td>\n",
       "      <td>-5.117870e-01</td>\n",
       "      <td>-9.242033e-01</td>\n",
       "      <td>-9.391824e-01</td>\n",
       "      <td>-5.694045e-01</td>\n",
       "      <td>-8.804422e-01</td>\n",
       "      <td>-8.900227e-01</td>\n",
       "      <td>-7.796261e-01</td>\n",
       "      <td>-7.231818e-01</td>\n",
       "      <td>-4.615438e-01</td>\n",
       "    </tr>\n",
       "    <tr>\n",
       "      <th>25%</th>\n",
       "      <td>-7.172077e-01</td>\n",
       "      <td>-1.279246e+00</td>\n",
       "      <td>-1.012071e+00</td>\n",
       "      <td>-9.143304e-01</td>\n",
       "      <td>-8.290666e-01</td>\n",
       "      <td>-1.202959e+00</td>\n",
       "      <td>-8.948428e-01</td>\n",
       "      <td>-5.117870e-01</td>\n",
       "      <td>-9.242033e-01</td>\n",
       "      <td>-9.391824e-01</td>\n",
       "      <td>-5.694045e-01</td>\n",
       "      <td>-8.804422e-01</td>\n",
       "      <td>-8.900227e-01</td>\n",
       "      <td>-7.796261e-01</td>\n",
       "      <td>-7.231818e-01</td>\n",
       "      <td>-4.615438e-01</td>\n",
       "    </tr>\n",
       "    <tr>\n",
       "      <th>50%</th>\n",
       "      <td>-4.671125e-02</td>\n",
       "      <td>7.796261e-01</td>\n",
       "      <td>9.854378e-01</td>\n",
       "      <td>-9.143304e-01</td>\n",
       "      <td>-8.290666e-01</td>\n",
       "      <td>8.290666e-01</td>\n",
       "      <td>-8.948428e-01</td>\n",
       "      <td>-5.117870e-01</td>\n",
       "      <td>-9.242033e-01</td>\n",
       "      <td>-9.391824e-01</td>\n",
       "      <td>-5.694045e-01</td>\n",
       "      <td>-8.804422e-01</td>\n",
       "      <td>-8.900227e-01</td>\n",
       "      <td>-7.796261e-01</td>\n",
       "      <td>-7.231818e-01</td>\n",
       "      <td>-4.615438e-01</td>\n",
       "    </tr>\n",
       "    <tr>\n",
       "      <th>75%</th>\n",
       "      <td>6.237852e-01</td>\n",
       "      <td>7.796261e-01</td>\n",
       "      <td>9.854378e-01</td>\n",
       "      <td>1.090780e+00</td>\n",
       "      <td>1.202959e+00</td>\n",
       "      <td>8.290666e-01</td>\n",
       "      <td>1.114535e+00</td>\n",
       "      <td>-5.117870e-01</td>\n",
       "      <td>1.079128e+00</td>\n",
       "      <td>1.061917e+00</td>\n",
       "      <td>-5.694045e-01</td>\n",
       "      <td>1.132764e+00</td>\n",
       "      <td>1.120571e+00</td>\n",
       "      <td>1.279246e+00</td>\n",
       "      <td>1.379091e+00</td>\n",
       "      <td>-4.615438e-01</td>\n",
       "    </tr>\n",
       "    <tr>\n",
       "      <th>max</th>\n",
       "      <td>3.557207e+00</td>\n",
       "      <td>7.796261e-01</td>\n",
       "      <td>9.854378e-01</td>\n",
       "      <td>1.090780e+00</td>\n",
       "      <td>1.202959e+00</td>\n",
       "      <td>8.290666e-01</td>\n",
       "      <td>1.114535e+00</td>\n",
       "      <td>1.948727e+00</td>\n",
       "      <td>1.079128e+00</td>\n",
       "      <td>1.061917e+00</td>\n",
       "      <td>1.751538e+00</td>\n",
       "      <td>1.132764e+00</td>\n",
       "      <td>1.120571e+00</td>\n",
       "      <td>1.279246e+00</td>\n",
       "      <td>1.379091e+00</td>\n",
       "      <td>2.160864e+00</td>\n",
       "    </tr>\n",
       "  </tbody>\n",
       "</table>\n",
       "</div>"
      ],
      "text/plain": [
       "              idade        genero      poliúria    polidipsia  \\\n",
       "count  3.750000e+02  3.750000e+02  3.750000e+02  3.750000e+02   \n",
       "mean   9.000208e-17  7.401487e-17 -1.382598e-16 -6.987004e-17   \n",
       "std    1.000000e+00  1.000000e+00  1.000000e+00  1.000000e+00   \n",
       "min   -2.644885e+00 -1.279246e+00 -1.012071e+00 -9.143304e-01   \n",
       "25%   -7.172077e-01 -1.279246e+00 -1.012071e+00 -9.143304e-01   \n",
       "50%   -4.671125e-02  7.796261e-01  9.854378e-01 -9.143304e-01   \n",
       "75%    6.237852e-01  7.796261e-01  9.854378e-01  1.090780e+00   \n",
       "max    3.557207e+00  7.796261e-01  9.854378e-01  1.090780e+00   \n",
       "\n",
       "       Perda_peso_repentina      fraqueza     polifagia  candidiase_genital  \\\n",
       "count          3.750000e+02  3.750000e+02  3.750000e+02        3.750000e+02   \n",
       "mean           1.622406e-16 -2.427688e-17  4.766558e-17       -1.894781e-17   \n",
       "std            1.000000e+00  1.000000e+00  1.000000e+00        1.000000e+00   \n",
       "min           -8.290666e-01 -1.202959e+00 -8.948428e-01       -5.117870e-01   \n",
       "25%           -8.290666e-01 -1.202959e+00 -8.948428e-01       -5.117870e-01   \n",
       "50%           -8.290666e-01  8.290666e-01 -8.948428e-01       -5.117870e-01   \n",
       "75%            1.202959e+00  8.290666e-01  1.114535e+00       -5.117870e-01   \n",
       "max            1.202959e+00  8.290666e-01  1.114535e+00        1.948727e+00   \n",
       "\n",
       "       desfoque_visual       coceira  irritabilidade  cura_atrasada  \\\n",
       "count     3.750000e+02  3.750000e+02    3.750000e+02   3.750000e+02   \n",
       "mean      2.948752e-16 -1.065814e-17   -1.480297e-18  -9.621933e-17   \n",
       "std       1.000000e+00  1.000000e+00    1.000000e+00   1.000000e+00   \n",
       "min      -9.242033e-01 -9.391824e-01   -5.694045e-01  -8.804422e-01   \n",
       "25%      -9.242033e-01 -9.391824e-01   -5.694045e-01  -8.804422e-01   \n",
       "50%      -9.242033e-01 -9.391824e-01   -5.694045e-01  -8.804422e-01   \n",
       "75%       1.079128e+00  1.061917e+00   -5.694045e-01   1.132764e+00   \n",
       "max       1.079128e+00  1.061917e+00    1.751538e+00   1.132764e+00   \n",
       "\n",
       "       partial_paresis  rigidez_muscular      calvicie     obesidade  \n",
       "count     3.750000e+02      3.750000e+02  3.750000e+02  3.750000e+02  \n",
       "mean      1.693460e-16     -1.373716e-16 -4.440892e-17 -1.435888e-17  \n",
       "std       1.000000e+00      1.000000e+00  1.000000e+00  1.000000e+00  \n",
       "min      -8.900227e-01     -7.796261e-01 -7.231818e-01 -4.615438e-01  \n",
       "25%      -8.900227e-01     -7.796261e-01 -7.231818e-01 -4.615438e-01  \n",
       "50%      -8.900227e-01     -7.796261e-01 -7.231818e-01 -4.615438e-01  \n",
       "75%       1.120571e+00      1.279246e+00  1.379091e+00 -4.615438e-01  \n",
       "max       1.120571e+00      1.279246e+00  1.379091e+00  2.160864e+00  "
      ]
     },
     "execution_count": 47,
     "metadata": {},
     "output_type": "execute_result"
    }
   ],
   "source": [
    "X_treino.describe()"
   ]
  },
  {
   "cell_type": "code",
   "execution_count": 48,
   "id": "25d33fcd",
   "metadata": {},
   "outputs": [],
   "source": [
    "X_teste = (X_teste - treino_mean) / treino_std"
   ]
  },
  {
   "cell_type": "code",
   "execution_count": 49,
   "id": "840b0205",
   "metadata": {},
   "outputs": [
    {
     "data": {
      "text/html": [
       "<div>\n",
       "<style scoped>\n",
       "    .dataframe tbody tr th:only-of-type {\n",
       "        vertical-align: middle;\n",
       "    }\n",
       "\n",
       "    .dataframe tbody tr th {\n",
       "        vertical-align: top;\n",
       "    }\n",
       "\n",
       "    .dataframe thead th {\n",
       "        text-align: right;\n",
       "    }\n",
       "</style>\n",
       "<table border=\"1\" class=\"dataframe\">\n",
       "  <thead>\n",
       "    <tr style=\"text-align: right;\">\n",
       "      <th></th>\n",
       "      <th>idade</th>\n",
       "      <th>genero</th>\n",
       "      <th>poliúria</th>\n",
       "      <th>polidipsia</th>\n",
       "      <th>Perda_peso_repentina</th>\n",
       "      <th>fraqueza</th>\n",
       "      <th>polifagia</th>\n",
       "      <th>candidiase_genital</th>\n",
       "      <th>desfoque_visual</th>\n",
       "      <th>coceira</th>\n",
       "      <th>irritabilidade</th>\n",
       "      <th>cura_atrasada</th>\n",
       "      <th>partial_paresis</th>\n",
       "      <th>rigidez_muscular</th>\n",
       "      <th>calvicie</th>\n",
       "      <th>obesidade</th>\n",
       "    </tr>\n",
       "  </thead>\n",
       "  <tbody>\n",
       "    <tr>\n",
       "      <th>308</th>\n",
       "      <td>-1.136268</td>\n",
       "      <td>0.779626</td>\n",
       "      <td>-1.012071</td>\n",
       "      <td>-0.91433</td>\n",
       "      <td>-0.829067</td>\n",
       "      <td>-1.202959</td>\n",
       "      <td>-0.894843</td>\n",
       "      <td>-0.511787</td>\n",
       "      <td>-0.924203</td>\n",
       "      <td>-0.939182</td>\n",
       "      <td>-0.569404</td>\n",
       "      <td>-0.880442</td>\n",
       "      <td>-0.890023</td>\n",
       "      <td>-0.779626</td>\n",
       "      <td>-0.723182</td>\n",
       "      <td>-0.461544</td>\n",
       "    </tr>\n",
       "    <tr>\n",
       "      <th>322</th>\n",
       "      <td>1.378094</td>\n",
       "      <td>0.779626</td>\n",
       "      <td>-1.012071</td>\n",
       "      <td>-0.91433</td>\n",
       "      <td>-0.829067</td>\n",
       "      <td>0.829067</td>\n",
       "      <td>1.114535</td>\n",
       "      <td>-0.511787</td>\n",
       "      <td>1.079128</td>\n",
       "      <td>1.061917</td>\n",
       "      <td>1.751538</td>\n",
       "      <td>1.132764</td>\n",
       "      <td>-0.890023</td>\n",
       "      <td>1.279246</td>\n",
       "      <td>1.379091</td>\n",
       "      <td>-0.461544</td>\n",
       "    </tr>\n",
       "    <tr>\n",
       "      <th>3</th>\n",
       "      <td>-0.214335</td>\n",
       "      <td>0.779626</td>\n",
       "      <td>-1.012071</td>\n",
       "      <td>-0.91433</td>\n",
       "      <td>1.202959</td>\n",
       "      <td>0.829067</td>\n",
       "      <td>1.114535</td>\n",
       "      <td>1.948727</td>\n",
       "      <td>-0.924203</td>\n",
       "      <td>1.061917</td>\n",
       "      <td>-0.569404</td>\n",
       "      <td>1.132764</td>\n",
       "      <td>-0.890023</td>\n",
       "      <td>-0.779626</td>\n",
       "      <td>-0.723182</td>\n",
       "      <td>-0.461544</td>\n",
       "    </tr>\n",
       "    <tr>\n",
       "      <th>313</th>\n",
       "      <td>0.539973</td>\n",
       "      <td>0.779626</td>\n",
       "      <td>-1.012071</td>\n",
       "      <td>-0.91433</td>\n",
       "      <td>1.202959</td>\n",
       "      <td>0.829067</td>\n",
       "      <td>-0.894843</td>\n",
       "      <td>1.948727</td>\n",
       "      <td>-0.924203</td>\n",
       "      <td>-0.939182</td>\n",
       "      <td>-0.569404</td>\n",
       "      <td>1.132764</td>\n",
       "      <td>-0.890023</td>\n",
       "      <td>-0.779626</td>\n",
       "      <td>1.379091</td>\n",
       "      <td>-0.461544</td>\n",
       "    </tr>\n",
       "    <tr>\n",
       "      <th>461</th>\n",
       "      <td>-0.214335</td>\n",
       "      <td>0.779626</td>\n",
       "      <td>-1.012071</td>\n",
       "      <td>-0.91433</td>\n",
       "      <td>-0.829067</td>\n",
       "      <td>-1.202959</td>\n",
       "      <td>1.114535</td>\n",
       "      <td>1.948727</td>\n",
       "      <td>-0.924203</td>\n",
       "      <td>-0.939182</td>\n",
       "      <td>-0.569404</td>\n",
       "      <td>-0.880442</td>\n",
       "      <td>-0.890023</td>\n",
       "      <td>-0.779626</td>\n",
       "      <td>-0.723182</td>\n",
       "      <td>-0.461544</td>\n",
       "    </tr>\n",
       "  </tbody>\n",
       "</table>\n",
       "</div>"
      ],
      "text/plain": [
       "        idade    genero  poliúria  polidipsia  Perda_peso_repentina  fraqueza  \\\n",
       "308 -1.136268  0.779626 -1.012071    -0.91433             -0.829067 -1.202959   \n",
       "322  1.378094  0.779626 -1.012071    -0.91433             -0.829067  0.829067   \n",
       "3   -0.214335  0.779626 -1.012071    -0.91433              1.202959  0.829067   \n",
       "313  0.539973  0.779626 -1.012071    -0.91433              1.202959  0.829067   \n",
       "461 -0.214335  0.779626 -1.012071    -0.91433             -0.829067 -1.202959   \n",
       "\n",
       "     polifagia  candidiase_genital  desfoque_visual   coceira  irritabilidade  \\\n",
       "308  -0.894843           -0.511787        -0.924203 -0.939182       -0.569404   \n",
       "322   1.114535           -0.511787         1.079128  1.061917        1.751538   \n",
       "3     1.114535            1.948727        -0.924203  1.061917       -0.569404   \n",
       "313  -0.894843            1.948727        -0.924203 -0.939182       -0.569404   \n",
       "461   1.114535            1.948727        -0.924203 -0.939182       -0.569404   \n",
       "\n",
       "     cura_atrasada  partial_paresis  rigidez_muscular  calvicie  obesidade  \n",
       "308      -0.880442        -0.890023         -0.779626 -0.723182  -0.461544  \n",
       "322       1.132764        -0.890023          1.279246  1.379091  -0.461544  \n",
       "3         1.132764        -0.890023         -0.779626 -0.723182  -0.461544  \n",
       "313       1.132764        -0.890023         -0.779626  1.379091  -0.461544  \n",
       "461      -0.880442        -0.890023         -0.779626 -0.723182  -0.461544  "
      ]
     },
     "execution_count": 49,
     "metadata": {},
     "output_type": "execute_result"
    }
   ],
   "source": [
    "X_teste.head()"
   ]
  },
  {
   "cell_type": "markdown",
   "id": "328c0215",
   "metadata": {},
   "source": [
    "### <font color='blue'> Construção, Treinamento e Avaliação do Modelo 1 com Regressão Logística (Benchmark) </font>"
   ]
  },
  {
   "cell_type": "markdown",
   "id": "f5c5e0bf",
   "metadata": {},
   "source": [
    "Para a primeira versão do modelo o ideal é escolher um algoritmo simples, fácil de compreender e que será usado como Benchmark."
   ]
  },
  {
   "cell_type": "markdown",
   "id": "711a09d9",
   "metadata": {},
   "source": [
    "Define lista de hiperparâmetros"
   ]
  },
  {
   "cell_type": "code",
   "execution_count": 50,
   "id": "61a7e995",
   "metadata": {},
   "outputs": [],
   "source": [
    "tuned_params_v1 = {'C': [0.0001, 0.001, 0.01, 0.1, 1, 10, 100, 1000, 10000], \n",
    "                   'penalty': ['l1', 'l2']}"
   ]
  },
  {
   "cell_type": "markdown",
   "id": "5e4cf6b9",
   "metadata": {},
   "source": [
    " Criaremos o modelo com GridSearch, Vários modelos serão criados com diferentes combinações de hiperparâmetros"
   ]
  },
  {
   "cell_type": "code",
   "execution_count": 51,
   "id": "e01b02ec",
   "metadata": {},
   "outputs": [],
   "source": [
    "modelo_v1 = GridSearchCV(LogisticRegression(), \n",
    "                         tuned_params_v1, \n",
    "                         scoring = 'roc_auc', \n",
    "                         n_jobs = -1)"
   ]
  },
  {
   "cell_type": "markdown",
   "id": "b88cde58",
   "metadata": {},
   "source": [
    "Treinamento do modelo"
   ]
  },
  {
   "cell_type": "code",
   "execution_count": 52,
   "id": "b6a8ae96",
   "metadata": {},
   "outputs": [
    {
     "data": {
      "text/html": [
       "<style>#sk-container-id-1 {color: black;background-color: white;}#sk-container-id-1 pre{padding: 0;}#sk-container-id-1 div.sk-toggleable {background-color: white;}#sk-container-id-1 label.sk-toggleable__label {cursor: pointer;display: block;width: 100%;margin-bottom: 0;padding: 0.3em;box-sizing: border-box;text-align: center;}#sk-container-id-1 label.sk-toggleable__label-arrow:before {content: \"▸\";float: left;margin-right: 0.25em;color: #696969;}#sk-container-id-1 label.sk-toggleable__label-arrow:hover:before {color: black;}#sk-container-id-1 div.sk-estimator:hover label.sk-toggleable__label-arrow:before {color: black;}#sk-container-id-1 div.sk-toggleable__content {max-height: 0;max-width: 0;overflow: hidden;text-align: left;background-color: #f0f8ff;}#sk-container-id-1 div.sk-toggleable__content pre {margin: 0.2em;color: black;border-radius: 0.25em;background-color: #f0f8ff;}#sk-container-id-1 input.sk-toggleable__control:checked~div.sk-toggleable__content {max-height: 200px;max-width: 100%;overflow: auto;}#sk-container-id-1 input.sk-toggleable__control:checked~label.sk-toggleable__label-arrow:before {content: \"▾\";}#sk-container-id-1 div.sk-estimator input.sk-toggleable__control:checked~label.sk-toggleable__label {background-color: #d4ebff;}#sk-container-id-1 div.sk-label input.sk-toggleable__control:checked~label.sk-toggleable__label {background-color: #d4ebff;}#sk-container-id-1 input.sk-hidden--visually {border: 0;clip: rect(1px 1px 1px 1px);clip: rect(1px, 1px, 1px, 1px);height: 1px;margin: -1px;overflow: hidden;padding: 0;position: absolute;width: 1px;}#sk-container-id-1 div.sk-estimator {font-family: monospace;background-color: #f0f8ff;border: 1px dotted black;border-radius: 0.25em;box-sizing: border-box;margin-bottom: 0.5em;}#sk-container-id-1 div.sk-estimator:hover {background-color: #d4ebff;}#sk-container-id-1 div.sk-parallel-item::after {content: \"\";width: 100%;border-bottom: 1px solid gray;flex-grow: 1;}#sk-container-id-1 div.sk-label:hover label.sk-toggleable__label {background-color: #d4ebff;}#sk-container-id-1 div.sk-serial::before {content: \"\";position: absolute;border-left: 1px solid gray;box-sizing: border-box;top: 0;bottom: 0;left: 50%;z-index: 0;}#sk-container-id-1 div.sk-serial {display: flex;flex-direction: column;align-items: center;background-color: white;padding-right: 0.2em;padding-left: 0.2em;position: relative;}#sk-container-id-1 div.sk-item {position: relative;z-index: 1;}#sk-container-id-1 div.sk-parallel {display: flex;align-items: stretch;justify-content: center;background-color: white;position: relative;}#sk-container-id-1 div.sk-item::before, #sk-container-id-1 div.sk-parallel-item::before {content: \"\";position: absolute;border-left: 1px solid gray;box-sizing: border-box;top: 0;bottom: 0;left: 50%;z-index: -1;}#sk-container-id-1 div.sk-parallel-item {display: flex;flex-direction: column;z-index: 1;position: relative;background-color: white;}#sk-container-id-1 div.sk-parallel-item:first-child::after {align-self: flex-end;width: 50%;}#sk-container-id-1 div.sk-parallel-item:last-child::after {align-self: flex-start;width: 50%;}#sk-container-id-1 div.sk-parallel-item:only-child::after {width: 0;}#sk-container-id-1 div.sk-dashed-wrapped {border: 1px dashed gray;margin: 0 0.4em 0.5em 0.4em;box-sizing: border-box;padding-bottom: 0.4em;background-color: white;}#sk-container-id-1 div.sk-label label {font-family: monospace;font-weight: bold;display: inline-block;line-height: 1.2em;}#sk-container-id-1 div.sk-label-container {text-align: center;}#sk-container-id-1 div.sk-container {/* jupyter's `normalize.less` sets `[hidden] { display: none; }` but bootstrap.min.css set `[hidden] { display: none !important; }` so we also need the `!important` here to be able to override the default hidden behavior on the sphinx rendered scikit-learn.org. See: https://github.com/scikit-learn/scikit-learn/issues/21755 */display: inline-block !important;position: relative;}#sk-container-id-1 div.sk-text-repr-fallback {display: none;}</style><div id=\"sk-container-id-1\" class=\"sk-top-container\"><div class=\"sk-text-repr-fallback\"><pre>GridSearchCV(estimator=LogisticRegression(), n_jobs=-1,\n",
       "             param_grid={&#x27;C&#x27;: [0.0001, 0.001, 0.01, 0.1, 1, 10, 100, 1000,\n",
       "                               10000],\n",
       "                         &#x27;penalty&#x27;: [&#x27;l1&#x27;, &#x27;l2&#x27;]},\n",
       "             scoring=&#x27;roc_auc&#x27;)</pre><b>In a Jupyter environment, please rerun this cell to show the HTML representation or trust the notebook. <br />On GitHub, the HTML representation is unable to render, please try loading this page with nbviewer.org.</b></div><div class=\"sk-container\" hidden><div class=\"sk-item sk-dashed-wrapped\"><div class=\"sk-label-container\"><div class=\"sk-label sk-toggleable\"><input class=\"sk-toggleable__control sk-hidden--visually\" id=\"sk-estimator-id-1\" type=\"checkbox\" ><label for=\"sk-estimator-id-1\" class=\"sk-toggleable__label sk-toggleable__label-arrow\">GridSearchCV</label><div class=\"sk-toggleable__content\"><pre>GridSearchCV(estimator=LogisticRegression(), n_jobs=-1,\n",
       "             param_grid={&#x27;C&#x27;: [0.0001, 0.001, 0.01, 0.1, 1, 10, 100, 1000,\n",
       "                               10000],\n",
       "                         &#x27;penalty&#x27;: [&#x27;l1&#x27;, &#x27;l2&#x27;]},\n",
       "             scoring=&#x27;roc_auc&#x27;)</pre></div></div></div><div class=\"sk-parallel\"><div class=\"sk-parallel-item\"><div class=\"sk-item\"><div class=\"sk-label-container\"><div class=\"sk-label sk-toggleable\"><input class=\"sk-toggleable__control sk-hidden--visually\" id=\"sk-estimator-id-2\" type=\"checkbox\" ><label for=\"sk-estimator-id-2\" class=\"sk-toggleable__label sk-toggleable__label-arrow\">estimator: LogisticRegression</label><div class=\"sk-toggleable__content\"><pre>LogisticRegression()</pre></div></div></div><div class=\"sk-serial\"><div class=\"sk-item\"><div class=\"sk-estimator sk-toggleable\"><input class=\"sk-toggleable__control sk-hidden--visually\" id=\"sk-estimator-id-3\" type=\"checkbox\" ><label for=\"sk-estimator-id-3\" class=\"sk-toggleable__label sk-toggleable__label-arrow\">LogisticRegression</label><div class=\"sk-toggleable__content\"><pre>LogisticRegression()</pre></div></div></div></div></div></div></div></div></div></div>"
      ],
      "text/plain": [
       "GridSearchCV(estimator=LogisticRegression(), n_jobs=-1,\n",
       "             param_grid={'C': [0.0001, 0.001, 0.01, 0.1, 1, 10, 100, 1000,\n",
       "                               10000],\n",
       "                         'penalty': ['l1', 'l2']},\n",
       "             scoring='roc_auc')"
      ]
     },
     "execution_count": 52,
     "metadata": {},
     "output_type": "execute_result"
    }
   ],
   "source": [
    "modelo_v1.fit(X_treino, y_treino)"
   ]
  },
  {
   "cell_type": "markdown",
   "id": "2de6fe48",
   "metadata": {},
   "source": [
    "Selecionamos o melhor modelo"
   ]
  },
  {
   "cell_type": "code",
   "execution_count": 53,
   "id": "23171505",
   "metadata": {},
   "outputs": [
    {
     "data": {
      "text/html": [
       "<style>#sk-container-id-2 {color: black;background-color: white;}#sk-container-id-2 pre{padding: 0;}#sk-container-id-2 div.sk-toggleable {background-color: white;}#sk-container-id-2 label.sk-toggleable__label {cursor: pointer;display: block;width: 100%;margin-bottom: 0;padding: 0.3em;box-sizing: border-box;text-align: center;}#sk-container-id-2 label.sk-toggleable__label-arrow:before {content: \"▸\";float: left;margin-right: 0.25em;color: #696969;}#sk-container-id-2 label.sk-toggleable__label-arrow:hover:before {color: black;}#sk-container-id-2 div.sk-estimator:hover label.sk-toggleable__label-arrow:before {color: black;}#sk-container-id-2 div.sk-toggleable__content {max-height: 0;max-width: 0;overflow: hidden;text-align: left;background-color: #f0f8ff;}#sk-container-id-2 div.sk-toggleable__content pre {margin: 0.2em;color: black;border-radius: 0.25em;background-color: #f0f8ff;}#sk-container-id-2 input.sk-toggleable__control:checked~div.sk-toggleable__content {max-height: 200px;max-width: 100%;overflow: auto;}#sk-container-id-2 input.sk-toggleable__control:checked~label.sk-toggleable__label-arrow:before {content: \"▾\";}#sk-container-id-2 div.sk-estimator input.sk-toggleable__control:checked~label.sk-toggleable__label {background-color: #d4ebff;}#sk-container-id-2 div.sk-label input.sk-toggleable__control:checked~label.sk-toggleable__label {background-color: #d4ebff;}#sk-container-id-2 input.sk-hidden--visually {border: 0;clip: rect(1px 1px 1px 1px);clip: rect(1px, 1px, 1px, 1px);height: 1px;margin: -1px;overflow: hidden;padding: 0;position: absolute;width: 1px;}#sk-container-id-2 div.sk-estimator {font-family: monospace;background-color: #f0f8ff;border: 1px dotted black;border-radius: 0.25em;box-sizing: border-box;margin-bottom: 0.5em;}#sk-container-id-2 div.sk-estimator:hover {background-color: #d4ebff;}#sk-container-id-2 div.sk-parallel-item::after {content: \"\";width: 100%;border-bottom: 1px solid gray;flex-grow: 1;}#sk-container-id-2 div.sk-label:hover label.sk-toggleable__label {background-color: #d4ebff;}#sk-container-id-2 div.sk-serial::before {content: \"\";position: absolute;border-left: 1px solid gray;box-sizing: border-box;top: 0;bottom: 0;left: 50%;z-index: 0;}#sk-container-id-2 div.sk-serial {display: flex;flex-direction: column;align-items: center;background-color: white;padding-right: 0.2em;padding-left: 0.2em;position: relative;}#sk-container-id-2 div.sk-item {position: relative;z-index: 1;}#sk-container-id-2 div.sk-parallel {display: flex;align-items: stretch;justify-content: center;background-color: white;position: relative;}#sk-container-id-2 div.sk-item::before, #sk-container-id-2 div.sk-parallel-item::before {content: \"\";position: absolute;border-left: 1px solid gray;box-sizing: border-box;top: 0;bottom: 0;left: 50%;z-index: -1;}#sk-container-id-2 div.sk-parallel-item {display: flex;flex-direction: column;z-index: 1;position: relative;background-color: white;}#sk-container-id-2 div.sk-parallel-item:first-child::after {align-self: flex-end;width: 50%;}#sk-container-id-2 div.sk-parallel-item:last-child::after {align-self: flex-start;width: 50%;}#sk-container-id-2 div.sk-parallel-item:only-child::after {width: 0;}#sk-container-id-2 div.sk-dashed-wrapped {border: 1px dashed gray;margin: 0 0.4em 0.5em 0.4em;box-sizing: border-box;padding-bottom: 0.4em;background-color: white;}#sk-container-id-2 div.sk-label label {font-family: monospace;font-weight: bold;display: inline-block;line-height: 1.2em;}#sk-container-id-2 div.sk-label-container {text-align: center;}#sk-container-id-2 div.sk-container {/* jupyter's `normalize.less` sets `[hidden] { display: none; }` but bootstrap.min.css set `[hidden] { display: none !important; }` so we also need the `!important` here to be able to override the default hidden behavior on the sphinx rendered scikit-learn.org. See: https://github.com/scikit-learn/scikit-learn/issues/21755 */display: inline-block !important;position: relative;}#sk-container-id-2 div.sk-text-repr-fallback {display: none;}</style><div id=\"sk-container-id-2\" class=\"sk-top-container\"><div class=\"sk-text-repr-fallback\"><pre>LogisticRegression(C=0.1)</pre><b>In a Jupyter environment, please rerun this cell to show the HTML representation or trust the notebook. <br />On GitHub, the HTML representation is unable to render, please try loading this page with nbviewer.org.</b></div><div class=\"sk-container\" hidden><div class=\"sk-item\"><div class=\"sk-estimator sk-toggleable\"><input class=\"sk-toggleable__control sk-hidden--visually\" id=\"sk-estimator-id-4\" type=\"checkbox\" checked><label for=\"sk-estimator-id-4\" class=\"sk-toggleable__label sk-toggleable__label-arrow\">LogisticRegression</label><div class=\"sk-toggleable__content\"><pre>LogisticRegression(C=0.1)</pre></div></div></div></div></div>"
      ],
      "text/plain": [
       "LogisticRegression(C=0.1)"
      ]
     },
     "execution_count": 53,
     "metadata": {},
     "output_type": "execute_result"
    }
   ],
   "source": [
    "modelo_v1.best_estimator_"
   ]
  },
  {
   "cell_type": "markdown",
   "id": "4dafdcc1",
   "metadata": {},
   "source": [
    "Previsões com dados de teste"
   ]
  },
  {
   "cell_type": "code",
   "execution_count": 54,
   "id": "9732a3be",
   "metadata": {},
   "outputs": [],
   "source": [
    "y_pred_v1 = modelo_v1.predict(X_teste)"
   ]
  },
  {
   "cell_type": "markdown",
   "id": "96d85e26",
   "metadata": {},
   "source": [
    "Mostra as 10 primeiras previsões"
   ]
  },
  {
   "cell_type": "code",
   "execution_count": 55,
   "id": "060eb225",
   "metadata": {},
   "outputs": [
    {
     "data": {
      "text/plain": [
       "array([0, 0, 0, 0, 0, 0, 1, 0, 1, 1], dtype=int64)"
      ]
     },
     "execution_count": 55,
     "metadata": {},
     "output_type": "execute_result"
    }
   ],
   "source": [
    "y_pred_v1[:10]"
   ]
  },
  {
   "cell_type": "markdown",
   "id": "ab2c33b4",
   "metadata": {},
   "source": [
    "Obtemos as previsões no formato de probabilidade para cada classe"
   ]
  },
  {
   "cell_type": "code",
   "execution_count": 56,
   "id": "359eb199",
   "metadata": {},
   "outputs": [],
   "source": [
    "y_pred_proba_v1 = modelo_v1.predict_proba(X_teste)"
   ]
  },
  {
   "cell_type": "markdown",
   "id": "d8f5c9f4",
   "metadata": {},
   "source": [
    "Mostra as 10 primeiras previsões"
   ]
  },
  {
   "cell_type": "code",
   "execution_count": 57,
   "id": "073ab6ae",
   "metadata": {},
   "outputs": [
    {
     "data": {
      "text/plain": [
       "array([[0.8792223 , 0.1207777 ],\n",
       "       [0.86815056, 0.13184944],\n",
       "       [0.73761874, 0.26238126],\n",
       "       [0.80163337, 0.19836663],\n",
       "       [0.58877337, 0.41122663],\n",
       "       [0.96667096, 0.03332904],\n",
       "       [0.00804371, 0.99195629],\n",
       "       [0.96335072, 0.03664928],\n",
       "       [0.26310302, 0.73689698],\n",
       "       [0.02474842, 0.97525158]])"
      ]
     },
     "execution_count": 57,
     "metadata": {},
     "output_type": "execute_result"
    }
   ],
   "source": [
    "y_pred_proba_v1[:10]"
   ]
  },
  {
   "cell_type": "markdown",
   "id": "e58cb7fc",
   "metadata": {},
   "source": [
    "Obtemos as previsões no formato de probabilidade filtrando para a classe positiva, \n",
    "Precisamos disso para calcula a Curva ROC"
   ]
  },
  {
   "cell_type": "code",
   "execution_count": 58,
   "id": "f6b8d9a8",
   "metadata": {},
   "outputs": [],
   "source": [
    "y_pred_proba_v1 = modelo_v1.predict_proba(X_teste)[:,1]"
   ]
  },
  {
   "cell_type": "markdown",
   "id": "e80eb0cf",
   "metadata": {},
   "source": [
    "Mostra as 10 primeiras previsões"
   ]
  },
  {
   "cell_type": "code",
   "execution_count": 59,
   "id": "7ea1542d",
   "metadata": {},
   "outputs": [
    {
     "data": {
      "text/plain": [
       "array([0.1207777 , 0.13184944, 0.26238126, 0.19836663, 0.41122663,\n",
       "       0.03332904, 0.99195629, 0.03664928, 0.73689698, 0.97525158])"
      ]
     },
     "execution_count": 59,
     "metadata": {},
     "output_type": "execute_result"
    }
   ],
   "source": [
    "y_pred_proba_v1[:10]"
   ]
  },
  {
   "cell_type": "markdown",
   "id": "7a4110d9",
   "metadata": {},
   "source": [
    "Como exemplo, vamos verificar um dos pontos de dados"
   ]
  },
  {
   "cell_type": "code",
   "execution_count": 60,
   "id": "83458ce6",
   "metadata": {},
   "outputs": [
    {
     "name": "stdout",
     "output_type": "stream",
     "text": [
      "Para o ponto de dado 16, classe real = 1, classe prevista = 1, probabilidade prevista = 0.5488443360614403\n"
     ]
    }
   ],
   "source": [
    " i = 16 \n",
    "print('Para o ponto de dado {}, classe real = {}, classe prevista = {}, probabilidade prevista = {}'.\n",
    "      format(i, y_teste.iloc[i], y_pred_v1[i], y_pred_proba_v1[i]))"
   ]
  },
  {
   "cell_type": "markdown",
   "id": "70ce9f26",
   "metadata": {},
   "source": [
    "Matriz de confusão"
   ]
  },
  {
   "cell_type": "code",
   "execution_count": 61,
   "id": "d764ca35",
   "metadata": {},
   "outputs": [
    {
     "data": {
      "text/plain": [
       "array([[45,  1],\n",
       "       [ 8, 71]], dtype=int64)"
      ]
     },
     "execution_count": 61,
     "metadata": {},
     "output_type": "execute_result"
    }
   ],
   "source": [
    "confusion_matrix(y_teste, y_pred_v1)"
   ]
  },
  {
   "cell_type": "markdown",
   "id": "a7d9affd",
   "metadata": {},
   "source": [
    "Extraindo cada valor da CM"
   ]
  },
  {
   "cell_type": "code",
   "execution_count": 62,
   "id": "0800cd49",
   "metadata": {},
   "outputs": [],
   "source": [
    "tn, fp, fn, tp = confusion_matrix(y_teste, y_pred_v1).ravel()"
   ]
  },
  {
   "cell_type": "code",
   "execution_count": 63,
   "id": "f60aa188",
   "metadata": {},
   "outputs": [
    {
     "name": "stdout",
     "output_type": "stream",
     "text": [
      "45 1 8 71\n"
     ]
    }
   ],
   "source": [
    "print(tn, fp, fn, tp)"
   ]
  },
  {
   "cell_type": "markdown",
   "id": "c845c16e",
   "metadata": {},
   "source": [
    "Calcula a métrica global AUC (Area Under The Curve) com dados reais e previsões em teste"
   ]
  },
  {
   "cell_type": "code",
   "execution_count": 64,
   "id": "39d1c075",
   "metadata": {},
   "outputs": [
    {
     "name": "stdout",
     "output_type": "stream",
     "text": [
      "0.9384975233902036\n"
     ]
    }
   ],
   "source": [
    "roc_auc_v1 = roc_auc_score(y_teste, y_pred_v1)\n",
    "print(roc_auc_v1)"
   ]
  },
  {
   "cell_type": "markdown",
   "id": "3e06abc2",
   "metadata": {},
   "source": [
    "Calcula a curva ROC com dados e previsões em teste"
   ]
  },
  {
   "cell_type": "code",
   "execution_count": 65,
   "id": "20d48e01",
   "metadata": {},
   "outputs": [],
   "source": [
    "fpr_v1, tpr_v1, thresholds = roc_curve(y_teste, y_pred_proba_v1)"
   ]
  },
  {
   "cell_type": "markdown",
   "id": "a3e6e8a3",
   "metadata": {},
   "source": [
    "AUC em teste"
   ]
  },
  {
   "cell_type": "code",
   "execution_count": 66,
   "id": "e216eea9",
   "metadata": {},
   "outputs": [
    {
     "name": "stdout",
     "output_type": "stream",
     "text": [
      "0.9518436984039627\n"
     ]
    }
   ],
   "source": [
    "auc_v1 = auc(fpr_v1, tpr_v1)\n",
    "print(auc_v1)"
   ]
  },
  {
   "cell_type": "markdown",
   "id": "3557db9d",
   "metadata": {},
   "source": [
    "Acurácia em teste"
   ]
  },
  {
   "cell_type": "code",
   "execution_count": 67,
   "id": "87d358a5",
   "metadata": {},
   "outputs": [
    {
     "name": "stdout",
     "output_type": "stream",
     "text": [
      "0.928\n"
     ]
    }
   ],
   "source": [
    "acuracia_v1 = accuracy_score(y_teste, y_pred_v1)\n",
    "print(acuracia_v1)"
   ]
  },
  {
   "cell_type": "markdown",
   "id": "a08eb562",
   "metadata": {},
   "source": [
    "### Feature Importance"
   ]
  },
  {
   "cell_type": "markdown",
   "id": "3f219479",
   "metadata": {},
   "source": [
    "Construindo o modelo novamente com os melhores hiperparâmetros, Isso é necessário pois a versão final não deve ter o GridSearchCV"
   ]
  },
  {
   "cell_type": "code",
   "execution_count": 68,
   "id": "8ddfcfda",
   "metadata": {},
   "outputs": [
    {
     "data": {
      "text/html": [
       "<style>#sk-container-id-3 {color: black;background-color: white;}#sk-container-id-3 pre{padding: 0;}#sk-container-id-3 div.sk-toggleable {background-color: white;}#sk-container-id-3 label.sk-toggleable__label {cursor: pointer;display: block;width: 100%;margin-bottom: 0;padding: 0.3em;box-sizing: border-box;text-align: center;}#sk-container-id-3 label.sk-toggleable__label-arrow:before {content: \"▸\";float: left;margin-right: 0.25em;color: #696969;}#sk-container-id-3 label.sk-toggleable__label-arrow:hover:before {color: black;}#sk-container-id-3 div.sk-estimator:hover label.sk-toggleable__label-arrow:before {color: black;}#sk-container-id-3 div.sk-toggleable__content {max-height: 0;max-width: 0;overflow: hidden;text-align: left;background-color: #f0f8ff;}#sk-container-id-3 div.sk-toggleable__content pre {margin: 0.2em;color: black;border-radius: 0.25em;background-color: #f0f8ff;}#sk-container-id-3 input.sk-toggleable__control:checked~div.sk-toggleable__content {max-height: 200px;max-width: 100%;overflow: auto;}#sk-container-id-3 input.sk-toggleable__control:checked~label.sk-toggleable__label-arrow:before {content: \"▾\";}#sk-container-id-3 div.sk-estimator input.sk-toggleable__control:checked~label.sk-toggleable__label {background-color: #d4ebff;}#sk-container-id-3 div.sk-label input.sk-toggleable__control:checked~label.sk-toggleable__label {background-color: #d4ebff;}#sk-container-id-3 input.sk-hidden--visually {border: 0;clip: rect(1px 1px 1px 1px);clip: rect(1px, 1px, 1px, 1px);height: 1px;margin: -1px;overflow: hidden;padding: 0;position: absolute;width: 1px;}#sk-container-id-3 div.sk-estimator {font-family: monospace;background-color: #f0f8ff;border: 1px dotted black;border-radius: 0.25em;box-sizing: border-box;margin-bottom: 0.5em;}#sk-container-id-3 div.sk-estimator:hover {background-color: #d4ebff;}#sk-container-id-3 div.sk-parallel-item::after {content: \"\";width: 100%;border-bottom: 1px solid gray;flex-grow: 1;}#sk-container-id-3 div.sk-label:hover label.sk-toggleable__label {background-color: #d4ebff;}#sk-container-id-3 div.sk-serial::before {content: \"\";position: absolute;border-left: 1px solid gray;box-sizing: border-box;top: 0;bottom: 0;left: 50%;z-index: 0;}#sk-container-id-3 div.sk-serial {display: flex;flex-direction: column;align-items: center;background-color: white;padding-right: 0.2em;padding-left: 0.2em;position: relative;}#sk-container-id-3 div.sk-item {position: relative;z-index: 1;}#sk-container-id-3 div.sk-parallel {display: flex;align-items: stretch;justify-content: center;background-color: white;position: relative;}#sk-container-id-3 div.sk-item::before, #sk-container-id-3 div.sk-parallel-item::before {content: \"\";position: absolute;border-left: 1px solid gray;box-sizing: border-box;top: 0;bottom: 0;left: 50%;z-index: -1;}#sk-container-id-3 div.sk-parallel-item {display: flex;flex-direction: column;z-index: 1;position: relative;background-color: white;}#sk-container-id-3 div.sk-parallel-item:first-child::after {align-self: flex-end;width: 50%;}#sk-container-id-3 div.sk-parallel-item:last-child::after {align-self: flex-start;width: 50%;}#sk-container-id-3 div.sk-parallel-item:only-child::after {width: 0;}#sk-container-id-3 div.sk-dashed-wrapped {border: 1px dashed gray;margin: 0 0.4em 0.5em 0.4em;box-sizing: border-box;padding-bottom: 0.4em;background-color: white;}#sk-container-id-3 div.sk-label label {font-family: monospace;font-weight: bold;display: inline-block;line-height: 1.2em;}#sk-container-id-3 div.sk-label-container {text-align: center;}#sk-container-id-3 div.sk-container {/* jupyter's `normalize.less` sets `[hidden] { display: none; }` but bootstrap.min.css set `[hidden] { display: none !important; }` so we also need the `!important` here to be able to override the default hidden behavior on the sphinx rendered scikit-learn.org. See: https://github.com/scikit-learn/scikit-learn/issues/21755 */display: inline-block !important;position: relative;}#sk-container-id-3 div.sk-text-repr-fallback {display: none;}</style><div id=\"sk-container-id-3\" class=\"sk-top-container\"><div class=\"sk-text-repr-fallback\"><pre>LogisticRegression(C=1)</pre><b>In a Jupyter environment, please rerun this cell to show the HTML representation or trust the notebook. <br />On GitHub, the HTML representation is unable to render, please try loading this page with nbviewer.org.</b></div><div class=\"sk-container\" hidden><div class=\"sk-item\"><div class=\"sk-estimator sk-toggleable\"><input class=\"sk-toggleable__control sk-hidden--visually\" id=\"sk-estimator-id-5\" type=\"checkbox\" checked><label for=\"sk-estimator-id-5\" class=\"sk-toggleable__label sk-toggleable__label-arrow\">LogisticRegression</label><div class=\"sk-toggleable__content\"><pre>LogisticRegression(C=1)</pre></div></div></div></div></div>"
      ],
      "text/plain": [
       "LogisticRegression(C=1)"
      ]
     },
     "execution_count": 68,
     "metadata": {},
     "output_type": "execute_result"
    }
   ],
   "source": [
    "modelo_v1 = LogisticRegression(C = 1)\n",
    "modelo_v1.fit(X_treino, y_treino)"
   ]
  },
  {
   "cell_type": "markdown",
   "id": "413f1be6",
   "metadata": {},
   "source": [
    "Obtemos os coeficientes pelo maior usando np.argsort"
   ]
  },
  {
   "cell_type": "code",
   "execution_count": 69,
   "id": "8d11da0a",
   "metadata": {},
   "outputs": [],
   "source": [
    "indices = np.argsort(-abs(modelo_v1.coef_[0,:]))"
   ]
  },
  {
   "cell_type": "code",
   "execution_count": 70,
   "id": "f05987ce",
   "metadata": {},
   "outputs": [
    {
     "name": "stdout",
     "output_type": "stream",
     "text": [
      "Variáveis mais importantes para o resultado do modelo_v1:\n",
      "--------------------------------------------------\n",
      "polidipsia\n",
      "genero\n",
      "poliúria\n",
      "irritabilidade\n",
      "coceira\n",
      "candidiase_genital\n",
      "cura_atrasada\n",
      "desfoque_visual\n",
      "partial_paresis\n",
      "polifagia\n",
      "Perda_peso_repentina\n",
      "idade\n",
      "calvicie\n",
      "rigidez_muscular\n",
      "obesidade\n",
      "fraqueza\n"
     ]
    }
   ],
   "source": [
    "print(\"Variáveis mais importantes para o resultado do modelo_v1:\")\n",
    "print(50*'-')\n",
    "for feature in X.columns[indices]:\n",
    "    print(feature)"
   ]
  },
  {
   "cell_type": "markdown",
   "id": "a1f40ef0",
   "metadata": {},
   "source": [
    "Salvando o modelo em disco"
   ]
  },
  {
   "cell_type": "code",
   "execution_count": 71,
   "id": "ad851105",
   "metadata": {},
   "outputs": [],
   "source": [
    "with open('modelos/modelo_v1.pkl', 'wb') as pickle_file:\n",
    "      joblib.dump(modelo_v1, 'modelos/modelo_v1.pkl') "
   ]
  },
  {
   "cell_type": "markdown",
   "id": "1fc87015",
   "metadata": {},
   "source": [
    "Cria um dataframe para receber as métricas de cada modelo"
   ]
  },
  {
   "cell_type": "code",
   "execution_count": 72,
   "id": "d838b7a1",
   "metadata": {},
   "outputs": [],
   "source": [
    "df_modelos = pd.DataFrame()"
   ]
  },
  {
   "cell_type": "markdown",
   "id": "68f70a64",
   "metadata": {},
   "source": [
    "Dicionário com as métricas do modelo_v1"
   ]
  },
  {
   "cell_type": "code",
   "execution_count": 73,
   "id": "b87d3835",
   "metadata": {},
   "outputs": [],
   "source": [
    "dict_modelo_v1 = {'Nome': 'modelo_v1', \n",
    "                  'Algoritmo': 'Regressão Logística', \n",
    "                  'ROC_AUC Score': roc_auc_v1,\n",
    "                  'AUC Score': auc_v1,\n",
    "                  'Acurácia': acuracia_v1}"
   ]
  },
  {
   "cell_type": "markdown",
   "id": "77637ee8",
   "metadata": {},
   "source": [
    "Adiciona o dict ao dataframe"
   ]
  },
  {
   "cell_type": "code",
   "execution_count": 74,
   "id": "4a899ad0",
   "metadata": {},
   "outputs": [],
   "source": [
    "df_modelos = df_modelos.append(dict_modelo_v1, ignore_index = True)"
   ]
  },
  {
   "cell_type": "code",
   "execution_count": 75,
   "id": "fbc092ff",
   "metadata": {},
   "outputs": [
    {
     "data": {
      "text/html": [
       "<div>\n",
       "<style scoped>\n",
       "    .dataframe tbody tr th:only-of-type {\n",
       "        vertical-align: middle;\n",
       "    }\n",
       "\n",
       "    .dataframe tbody tr th {\n",
       "        vertical-align: top;\n",
       "    }\n",
       "\n",
       "    .dataframe thead th {\n",
       "        text-align: right;\n",
       "    }\n",
       "</style>\n",
       "<table border=\"1\" class=\"dataframe\">\n",
       "  <thead>\n",
       "    <tr style=\"text-align: right;\">\n",
       "      <th></th>\n",
       "      <th>Nome</th>\n",
       "      <th>Algoritmo</th>\n",
       "      <th>ROC_AUC Score</th>\n",
       "      <th>AUC Score</th>\n",
       "      <th>Acurácia</th>\n",
       "    </tr>\n",
       "  </thead>\n",
       "  <tbody>\n",
       "    <tr>\n",
       "      <th>0</th>\n",
       "      <td>modelo_v1</td>\n",
       "      <td>Regressão Logística</td>\n",
       "      <td>0.938498</td>\n",
       "      <td>0.951844</td>\n",
       "      <td>0.928</td>\n",
       "    </tr>\n",
       "  </tbody>\n",
       "</table>\n",
       "</div>"
      ],
      "text/plain": [
       "        Nome            Algoritmo  ROC_AUC Score  AUC Score  Acurácia\n",
       "0  modelo_v1  Regressão Logística       0.938498   0.951844     0.928"
      ]
     },
     "metadata": {},
     "output_type": "display_data"
    }
   ],
   "source": [
    "display(df_modelos)"
   ]
  },
  {
   "cell_type": "markdown",
   "id": "f535fb5d",
   "metadata": {},
   "source": [
    "### <font color='blue'> Construção, Treinamento e Avaliação do Modelo 2 com Random Forest </font>"
   ]
  },
  {
   "cell_type": "markdown",
   "id": "8417a1b9",
   "metadata": {},
   "source": [
    "O objectivo agora é tentar obter um modelo melhor que a versão 1. Irei tentar o algoritmo Random Forest."
   ]
  },
  {
   "cell_type": "markdown",
   "id": "b72f036f",
   "metadata": {},
   "source": [
    "Grid de hiperparâmetros"
   ]
  },
  {
   "cell_type": "code",
   "execution_count": 76,
   "id": "ba661c38",
   "metadata": {},
   "outputs": [],
   "source": [
    "tuned_params_v2 = {'n_estimators': [100, 200, 300, 400, 500], \n",
    "                   'min_samples_split': [2, 5, 10], \n",
    "                   'min_samples_leaf': [1, 2, 4]}"
   ]
  },
  {
   "cell_type": "markdown",
   "id": "a635f2ae",
   "metadata": {},
   "source": [
    "Cria o modelo com RandomizedSearchCV para buscar a melhor combinação de hiperparâmetros"
   ]
  },
  {
   "cell_type": "code",
   "execution_count": 77,
   "id": "1d332968",
   "metadata": {},
   "outputs": [],
   "source": [
    "modelo_v2 = RandomizedSearchCV(RandomForestClassifier(), \n",
    "                               tuned_params_v2, \n",
    "                               n_iter = 15, \n",
    "                               scoring = 'roc_auc', \n",
    "                               n_jobs  = -1)"
   ]
  },
  {
   "cell_type": "markdown",
   "id": "66be94ac",
   "metadata": {},
   "source": [
    "Treina o modelo"
   ]
  },
  {
   "cell_type": "code",
   "execution_count": null,
   "id": "200c192f",
   "metadata": {},
   "outputs": [],
   "source": [
    "modelo_v2.fit(X_treino, y_treino)"
   ]
  },
  {
   "cell_type": "code",
   "execution_count": null,
   "id": "7c7b4a8e",
   "metadata": {},
   "outputs": [],
   "source": [
    "modelo_v2.best_estimator_"
   ]
  },
  {
   "cell_type": "code",
   "execution_count": null,
   "id": "ba036ef4",
   "metadata": {},
   "outputs": [],
   "source": [
    "y_pred_v2 = modelo_v2.predict(X_teste)"
   ]
  },
  {
   "cell_type": "code",
   "execution_count": null,
   "id": "5d126b58",
   "metadata": {},
   "outputs": [],
   "source": [
    "y_pred_proba_v2 = modelo_v2.predict_proba(X_teste)[:,1]"
   ]
  },
  {
   "cell_type": "code",
   "execution_count": null,
   "id": "640376ac",
   "metadata": {},
   "outputs": [],
   "source": [
    "confusion_matrix(y_teste, y_pred_v2)"
   ]
  },
  {
   "cell_type": "code",
   "execution_count": null,
   "id": "5bd9abbb",
   "metadata": {},
   "outputs": [],
   "source": [
    "roc_auc_v2 = roc_auc_score(y_teste, y_pred_v2)\n",
    "print(roc_auc_v2)"
   ]
  },
  {
   "cell_type": "code",
   "execution_count": null,
   "id": "501c1483",
   "metadata": {},
   "outputs": [],
   "source": [
    "fpr_v2, tpr_v2, thresholds = roc_curve(y_teste, y_pred_proba_v2)"
   ]
  },
  {
   "cell_type": "code",
   "execution_count": null,
   "id": "fa5a0625",
   "metadata": {},
   "outputs": [],
   "source": [
    "auc_v2 = auc(fpr_v2, tpr_v2)\n",
    "print(auc_v2)"
   ]
  },
  {
   "cell_type": "code",
   "execution_count": null,
   "id": "359335b6",
   "metadata": {},
   "outputs": [],
   "source": [
    "acuracia_v2 = accuracy_score(y_teste, y_pred_v2)\n",
    "print(acuracia_v2)"
   ]
  },
  {
   "cell_type": "markdown",
   "id": "6f9c8917",
   "metadata": {},
   "source": [
    "### Feature Importance"
   ]
  },
  {
   "cell_type": "code",
   "execution_count": null,
   "id": "c2e04be1",
   "metadata": {},
   "outputs": [],
   "source": [
    "modelo_v2 = RandomForestClassifier(n_estimators = 200, min_samples_split = 5, min_samples_leaf = 4)\n",
    "modelo_v2.fit(X_treino, y_treino)"
   ]
  },
  {
   "cell_type": "code",
   "execution_count": null,
   "id": "27ffcf77",
   "metadata": {},
   "outputs": [],
   "source": [
    "indices = np.argsort(-modelo_v2.feature_importances_)\n",
    "print(\"Variáveis mais importantes para o resultado do modelo_v2:\")\n",
    "print(50*'-')\n",
    "for feature in X.columns[indices]:\n",
    "    print(feature)"
   ]
  },
  {
   "cell_type": "markdown",
   "id": "6c906a96",
   "metadata": {},
   "source": [
    "Salvando o modelo em disco"
   ]
  },
  {
   "cell_type": "code",
   "execution_count": null,
   "id": "141db186",
   "metadata": {},
   "outputs": [],
   "source": [
    "with open('modelos/modelo_v2.pkl', 'wb') as pickle_file:\n",
    "      joblib.dump(modelo_v2, 'modelos/modelo_v2.pkl') "
   ]
  },
  {
   "cell_type": "code",
   "execution_count": null,
   "id": "9fee2a22",
   "metadata": {},
   "outputs": [],
   "source": [
    "dict_modelo_v2 = {'Nome': 'modelo_v2', \n",
    "                  'Algoritmo': 'Random Forest', \n",
    "                  'ROC_AUC Score': roc_auc_v2,\n",
    "                  'AUC Score': auc_v2,\n",
    "                  'Acurácia': acuracia_v2}"
   ]
  },
  {
   "cell_type": "code",
   "execution_count": null,
   "id": "e1653e84",
   "metadata": {},
   "outputs": [],
   "source": [
    "df_modelos = df_modelos.append(dict_modelo_v2, ignore_index = True)"
   ]
  },
  {
   "cell_type": "code",
   "execution_count": null,
   "id": "b0b34ce6",
   "metadata": {},
   "outputs": [],
   "source": [
    "display(df_modelos)"
   ]
  },
  {
   "cell_type": "markdown",
   "id": "7152e59f",
   "metadata": {},
   "source": [
    "### <font color='blue'> Construção, Treinamento e Avaliação do Modelo 3 com KNN </font>"
   ]
  },
  {
   "cell_type": "markdown",
   "id": "923688bb",
   "metadata": {},
   "source": [
    "Agora vou tentar um algoritmo mais simples, o KNN. Para esse algoritmo preciso antes definir o valor de K, que é o número de vizinhos mais próximos."
   ]
  },
  {
   "cell_type": "markdown",
   "id": "91a29865",
   "metadata": {},
   "source": [
    "Lista de possíveis valores de K-visinhos"
   ]
  },
  {
   "cell_type": "code",
   "execution_count": null,
   "id": "7c2b7d12",
   "metadata": {},
   "outputs": [],
   "source": [
    "vizinhos = list(range(1, 20, 2))"
   ]
  },
  {
   "cell_type": "markdown",
   "id": "85289e4d",
   "metadata": {},
   "source": [
    "Lista para os scores"
   ]
  },
  {
   "cell_type": "code",
   "execution_count": null,
   "id": "bc409d81",
   "metadata": {},
   "outputs": [],
   "source": [
    "cv_scores = []"
   ]
  },
  {
   "cell_type": "markdown",
   "id": "7bbfcafe",
   "metadata": {},
   "source": [
    "Validação cruzada para determinar o melhor valor de k"
   ]
  },
  {
   "cell_type": "code",
   "execution_count": null,
   "id": "d40cf68e",
   "metadata": {},
   "outputs": [],
   "source": [
    "for k in vizinhos:\n",
    "    knn = KNeighborsClassifier(n_neighbors = k)\n",
    "    scores = cross_val_score(knn, X_treino, y_treino, cv = 5, scoring = 'accuracy')\n",
    "    cv_scores.append(scores.mean())  "
   ]
  },
  {
   "cell_type": "markdown",
   "id": "32220ae9",
   "metadata": {},
   "source": [
    "Ajustando o erro de classificação"
   ]
  },
  {
   "cell_type": "code",
   "execution_count": null,
   "id": "fcfa5565",
   "metadata": {},
   "outputs": [],
   "source": [
    "erro = [1 - x for x in cv_scores]"
   ]
  },
  {
   "cell_type": "markdown",
   "id": "58cc1ca6",
   "metadata": {},
   "source": [
    "Determinando o melhor valor de k (com menor erro)"
   ]
  },
  {
   "cell_type": "code",
   "execution_count": null,
   "id": "c75d8cc9",
   "metadata": {},
   "outputs": [],
   "source": [
    "optimal_k = vizinhos[erro.index(min(erro))]\n",
    "print('O valor ideal de k é %d' % optimal_k)"
   ]
  },
  {
   "cell_type": "markdown",
   "id": "8ede91c8",
   "metadata": {},
   "source": [
    "Criando o modelo versão 3"
   ]
  },
  {
   "cell_type": "code",
   "execution_count": null,
   "id": "c3bd6755",
   "metadata": {},
   "outputs": [],
   "source": [
    "modelo_v3 = KNeighborsClassifier(n_neighbors = optimal_k)"
   ]
  },
  {
   "cell_type": "markdown",
   "id": "b3823683",
   "metadata": {},
   "source": [
    "Treinamento"
   ]
  },
  {
   "cell_type": "code",
   "execution_count": null,
   "id": "d7c1922d",
   "metadata": {},
   "outputs": [],
   "source": [
    "modelo_v3.fit(X_treino, y_treino)"
   ]
  },
  {
   "cell_type": "markdown",
   "id": "802240c5",
   "metadata": {},
   "source": [
    "Previsões"
   ]
  },
  {
   "cell_type": "code",
   "execution_count": null,
   "id": "bc44e066",
   "metadata": {},
   "outputs": [],
   "source": [
    "y_pred_v3 = modelo_v3.predict(X_teste)"
   ]
  },
  {
   "cell_type": "code",
   "execution_count": null,
   "id": "35938cb2",
   "metadata": {},
   "outputs": [],
   "source": [
    "confusion_matrix(y_teste, y_pred_v3)"
   ]
  },
  {
   "cell_type": "code",
   "execution_count": null,
   "id": "92bf6b4f",
   "metadata": {},
   "outputs": [],
   "source": [
    "y_pred_proba_v3 = modelo_v3.predict_proba(X_teste)[:,1]"
   ]
  },
  {
   "cell_type": "code",
   "execution_count": null,
   "id": "816d6854",
   "metadata": {},
   "outputs": [],
   "source": [
    "roc_auc_v3 = roc_auc_score(y_teste, y_pred_v3)\n",
    "print(roc_auc_v3)"
   ]
  },
  {
   "cell_type": "code",
   "execution_count": null,
   "id": "548ffc6a",
   "metadata": {},
   "outputs": [],
   "source": [
    "fpr_v3, tpr_v3, thresholds = roc_curve(y_teste, y_pred_proba_v3)"
   ]
  },
  {
   "cell_type": "code",
   "execution_count": null,
   "id": "23ea463d",
   "metadata": {},
   "outputs": [],
   "source": [
    "auc_v3 = auc(fpr_v3, tpr_v3)\n",
    "print(auc_v3)"
   ]
  },
  {
   "cell_type": "code",
   "execution_count": null,
   "id": "78c88784",
   "metadata": {},
   "outputs": [],
   "source": [
    "acuracia_v3 = accuracy_score(y_teste, y_pred_v3)\n",
    "print(acuracia_v3)"
   ]
  },
  {
   "cell_type": "markdown",
   "id": "e2ae7305",
   "metadata": {},
   "source": [
    "Obs: Com o algoritmo KNN não extraímos as variáveis mais importantes, pois o conceito do algoritmo é diferente."
   ]
  },
  {
   "cell_type": "markdown",
   "id": "3d3811f8",
   "metadata": {},
   "source": [
    "Salvando o modelo em disco"
   ]
  },
  {
   "cell_type": "code",
   "execution_count": null,
   "id": "1a24d3d5",
   "metadata": {},
   "outputs": [],
   "source": [
    "with open('modelos/modelo_v3.pkl', 'wb') as pickle_file:\n",
    "      joblib.dump(modelo_v3, 'modelos/modelo_v3.pkl') "
   ]
  },
  {
   "cell_type": "code",
   "execution_count": null,
   "id": "f4da35d0",
   "metadata": {},
   "outputs": [],
   "source": [
    "dict_modelo_v3 = {'Nome': 'modelo_v3', \n",
    "                  'Algoritmo': 'KNN', \n",
    "                  'ROC_AUC Score': roc_auc_v3,\n",
    "                  'AUC Score': auc_v3,\n",
    "                  'Acurácia': acuracia_v3}"
   ]
  },
  {
   "cell_type": "code",
   "execution_count": null,
   "id": "3e8faf11",
   "metadata": {},
   "outputs": [],
   "source": [
    "df_modelos = df_modelos.append(dict_modelo_v3, ignore_index = True)"
   ]
  },
  {
   "cell_type": "code",
   "execution_count": null,
   "id": "c506c03e",
   "metadata": {},
   "outputs": [],
   "source": [
    "display(df_modelos)"
   ]
  },
  {
   "cell_type": "markdown",
   "id": "9db619b7",
   "metadata": {},
   "source": [
    "### <font color='blue'> Construção, Treinamento e Avaliação do Modelo 4 com Decision Tree </font>"
   ]
  },
  {
   "cell_type": "markdown",
   "id": "cd0f6802",
   "metadata": {},
   "source": [
    "Na versão 4 do modelo usarei um modelo de árvore de decisão."
   ]
  },
  {
   "cell_type": "markdown",
   "id": "c3cebc35",
   "metadata": {},
   "source": [
    "Hiperparâmetros"
   ]
  },
  {
   "cell_type": "code",
   "execution_count": null,
   "id": "f68a7242",
   "metadata": {},
   "outputs": [],
   "source": [
    "tuned_params_v4 = {'min_samples_split': [2, 3, 4, 5, 7], \n",
    "                   'min_samples_leaf': [1, 2, 3, 4, 6], \n",
    "                   'max_depth': [2, 3, 4, 5, 6, 7]}"
   ]
  },
  {
   "cell_type": "markdown",
   "id": "0d5f4c45",
   "metadata": {},
   "source": [
    "Cria o modelo com RandomizedSearchCV"
   ]
  },
  {
   "cell_type": "code",
   "execution_count": null,
   "id": "ebe98dac",
   "metadata": {},
   "outputs": [],
   "source": [
    "modelo_v4 = RandomizedSearchCV(DecisionTreeClassifier(), \n",
    "                               tuned_params_v4, \n",
    "                               n_iter = 15, \n",
    "                               scoring = 'roc_auc', \n",
    "                               n_jobs = -1)"
   ]
  },
  {
   "cell_type": "markdown",
   "id": "2867ed83",
   "metadata": {},
   "source": [
    "Treinamento"
   ]
  },
  {
   "cell_type": "code",
   "execution_count": null,
   "id": "5c38a87c",
   "metadata": {},
   "outputs": [],
   "source": [
    "modelo_v4.fit(X_treino, y_treino)"
   ]
  },
  {
   "cell_type": "code",
   "execution_count": null,
   "id": "d7bb3c6b",
   "metadata": {},
   "outputs": [],
   "source": [
    "modelo_v4.best_estimator_"
   ]
  },
  {
   "cell_type": "code",
   "execution_count": null,
   "id": "d3c57909",
   "metadata": {},
   "outputs": [],
   "source": [
    "y_pred_v4 = modelo_v4.predict(X_teste)"
   ]
  },
  {
   "cell_type": "code",
   "execution_count": null,
   "id": "c7fcb974",
   "metadata": {},
   "outputs": [],
   "source": [
    "y_pred_proba_v4 = modelo_v4.predict_proba(X_teste)[:,1]"
   ]
  },
  {
   "cell_type": "code",
   "execution_count": null,
   "id": "d0f45f6a",
   "metadata": {},
   "outputs": [],
   "source": [
    "confusion_matrix(y_teste, y_pred_v4)"
   ]
  },
  {
   "cell_type": "code",
   "execution_count": null,
   "id": "e720488b",
   "metadata": {},
   "outputs": [],
   "source": [
    "roc_auc_v4 = roc_auc_score(y_teste, y_pred_v4)\n",
    "print(roc_auc_v4)"
   ]
  },
  {
   "cell_type": "code",
   "execution_count": null,
   "id": "25efe20d",
   "metadata": {},
   "outputs": [],
   "source": [
    "fpr_v4, tpr_v4, thresholds = roc_curve(y_teste, y_pred_proba_v4)"
   ]
  },
  {
   "cell_type": "code",
   "execution_count": null,
   "id": "9afb68cf",
   "metadata": {},
   "outputs": [],
   "source": [
    "auc_v4 = auc(fpr_v4, tpr_v4)\n",
    "print(auc_v4)"
   ]
  },
  {
   "cell_type": "code",
   "execution_count": null,
   "id": "306839da",
   "metadata": {},
   "outputs": [],
   "source": [
    "acuracia_v4 = accuracy_score(y_teste, y_pred_v4)\n",
    "print(acuracia_v4)"
   ]
  },
  {
   "cell_type": "markdown",
   "id": "0bb12517",
   "metadata": {},
   "source": [
    "### Feature Importance"
   ]
  },
  {
   "cell_type": "markdown",
   "id": "8cb9ab23",
   "metadata": {},
   "source": [
    "Recriando o modelo"
   ]
  },
  {
   "cell_type": "code",
   "execution_count": null,
   "id": "f470ed42",
   "metadata": {},
   "outputs": [],
   "source": [
    "modelo_v4 = DecisionTreeClassifier(min_samples_split = 2, min_samples_leaf = 6, max_depth = 4)\n",
    "modelo_v4.fit(X_treino, y_treino)"
   ]
  },
  {
   "cell_type": "code",
   "execution_count": null,
   "id": "d709bc93",
   "metadata": {},
   "outputs": [],
   "source": [
    "indices = np.argsort(-modelo_v4.feature_importances_)\n",
    "print(\"Variáveis mais importantes para o resultado do modelo_v4:\")\n",
    "print(50*'-')\n",
    "for feature in X.columns[indices]:\n",
    "    print(feature)"
   ]
  },
  {
   "cell_type": "markdown",
   "id": "aa0356ef",
   "metadata": {},
   "source": [
    "Salvando o modelo em disco"
   ]
  },
  {
   "cell_type": "code",
   "execution_count": null,
   "id": "c9d0a0ba",
   "metadata": {},
   "outputs": [],
   "source": [
    "with open('modelos/modelo_v4.pkl', 'wb') as pickle_file:\n",
    "      joblib.dump(modelo_v4, 'modelos/modelo_v4.pkl') "
   ]
  },
  {
   "cell_type": "code",
   "execution_count": null,
   "id": "3c9ad06a",
   "metadata": {},
   "outputs": [],
   "source": [
    "dict_modelo_v4 = {'Nome': 'modelo_v4', \n",
    "                  'Algoritmo': 'Decision Tree', \n",
    "                  'ROC_AUC Score': roc_auc_v4,\n",
    "                  'AUC Score': auc_v4,\n",
    "                  'Acurácia': acuracia_v4}"
   ]
  },
  {
   "cell_type": "code",
   "execution_count": null,
   "id": "4bd612eb",
   "metadata": {},
   "outputs": [],
   "source": [
    "df_modelos = df_modelos.append(dict_modelo_v4, ignore_index = True)"
   ]
  },
  {
   "cell_type": "code",
   "execution_count": null,
   "id": "268890f9",
   "metadata": {},
   "outputs": [],
   "source": [
    "display(df_modelos)"
   ]
  },
  {
   "cell_type": "markdown",
   "id": "f3c0e827",
   "metadata": {},
   "source": [
    "### <font color='blue'> Construção, Treinamento e Avaliação do Modelo 5 com SVM </font>"
   ]
  },
  {
   "cell_type": "markdown",
   "id": "c9cbe301",
   "metadata": {},
   "source": [
    "Para a quinta e última versão do modelo usarei SVM."
   ]
  },
  {
   "cell_type": "markdown",
   "id": "0488704d",
   "metadata": {},
   "source": [
    "Função para seleção de hiperparâmetros"
   ]
  },
  {
   "cell_type": "code",
   "execution_count": null,
   "id": "a1d00cd4",
   "metadata": {},
   "outputs": [],
   "source": [
    "def svc_param_selection(X, y, nfolds):\n",
    "    Cs = [0.001, 0.01, 0.1, 1, 10]\n",
    "    gammas = [0.001, 0.01, 0.1, 1]\n",
    "    param_grid = {'C': Cs, 'gamma' : gammas}\n",
    "    grid_search = GridSearchCV(SVC(kernel = 'rbf'), param_grid, cv = nfolds)\n",
    "    grid_search.fit(X_treino, y_treino)\n",
    "    grid_search.best_params_\n",
    "    return grid_search.best_params_"
   ]
  },
  {
   "cell_type": "markdown",
   "id": "89271a43",
   "metadata": {},
   "source": [
    "Aplica a função"
   ]
  },
  {
   "cell_type": "code",
   "execution_count": null,
   "id": "6ecf68df",
   "metadata": {},
   "outputs": [],
   "source": [
    "svc_param_selection(X_treino, y_treino, 5)"
   ]
  },
  {
   "cell_type": "markdown",
   "id": "dc59cdcd",
   "metadata": {},
   "source": [
    "Cria o modelo com os melhores hiperparâmetros"
   ]
  },
  {
   "cell_type": "code",
   "execution_count": null,
   "id": "0b02c04c",
   "metadata": {},
   "outputs": [],
   "source": [
    "modelo_v5 = SVC(C = 1, gamma = 1, probability = True)"
   ]
  },
  {
   "cell_type": "markdown",
   "id": "01342769",
   "metadata": {},
   "source": [
    "Treinamento"
   ]
  },
  {
   "cell_type": "code",
   "execution_count": null,
   "id": "36e13dd6",
   "metadata": {},
   "outputs": [],
   "source": [
    "modelo_v5.fit(X_treino, y_treino)"
   ]
  },
  {
   "cell_type": "code",
   "execution_count": null,
   "id": "58736218",
   "metadata": {},
   "outputs": [],
   "source": [
    "y_pred_v5 = modelo_v5.predict(X_teste)"
   ]
  },
  {
   "cell_type": "code",
   "execution_count": null,
   "id": "41ccd77a",
   "metadata": {},
   "outputs": [],
   "source": [
    "confusion_matrix(y_teste, y_pred_v5)"
   ]
  },
  {
   "cell_type": "code",
   "execution_count": null,
   "id": "3c72eb10",
   "metadata": {},
   "outputs": [],
   "source": [
    "y_pred_proba_v5 = modelo_v5.predict_proba(X_teste)[:, 1]"
   ]
  },
  {
   "cell_type": "code",
   "execution_count": null,
   "id": "ffa6ce9e",
   "metadata": {},
   "outputs": [],
   "source": [
    "roc_auc_v5 = roc_auc_score(y_teste, y_pred_v5)\n",
    "print(roc_auc_v5)"
   ]
  },
  {
   "cell_type": "code",
   "execution_count": null,
   "id": "1f066ad8",
   "metadata": {},
   "outputs": [],
   "source": [
    "fpr_v5, tpr_v5, thresholds = roc_curve(y_teste, y_pred_proba_v5)"
   ]
  },
  {
   "cell_type": "code",
   "execution_count": null,
   "id": "33a7d65c",
   "metadata": {},
   "outputs": [],
   "source": [
    "auc_v5 = auc(fpr_v5, tpr_v5)\n",
    "print(auc_v5)"
   ]
  },
  {
   "cell_type": "code",
   "execution_count": null,
   "id": "d5405b70",
   "metadata": {},
   "outputs": [],
   "source": [
    "acuracia_v5 = accuracy_score(y_teste, y_pred_v5)\n",
    "print(acuracia_v5)"
   ]
  },
  {
   "cell_type": "markdown",
   "id": "d53c566d",
   "metadata": {},
   "source": [
    "Salvando o modelo em disco"
   ]
  },
  {
   "cell_type": "code",
   "execution_count": null,
   "id": "64e6e4a5",
   "metadata": {},
   "outputs": [],
   "source": [
    "with open('modelos/modelo_v5.pkl', 'wb') as pickle_file:\n",
    "      joblib.dump(modelo_v5, 'modelos/modelo_v5.pkl') "
   ]
  },
  {
   "cell_type": "code",
   "execution_count": null,
   "id": "70e5bf50",
   "metadata": {},
   "outputs": [],
   "source": [
    "dict_modelo_v5 = {'Nome': 'modelo_v5', \n",
    "                  'Algoritmo': 'SVM', \n",
    "                  'ROC_AUC Score': roc_auc_v5,\n",
    "                  'AUC Score': auc_v5,\n",
    "                  'Acurácia': acuracia_v5}"
   ]
  },
  {
   "cell_type": "code",
   "execution_count": null,
   "id": "04fcc630",
   "metadata": {},
   "outputs": [],
   "source": [
    "df_modelos = df_modelos.append(dict_modelo_v5, ignore_index = True)"
   ]
  },
  {
   "cell_type": "code",
   "execution_count": null,
   "id": "882ae488",
   "metadata": {},
   "outputs": [],
   "source": [
    "display(df_modelos)"
   ]
  },
  {
   "cell_type": "markdown",
   "id": "631c4f97",
   "metadata": {},
   "source": [
    "### <font color='blue'> Seleção do Melhor Modelo </font>"
   ]
  },
  {
   "cell_type": "markdown",
   "id": "04d07b30",
   "metadata": {},
   "source": [
    "Usarei o modelo que teve o maior Acurácia, por se tratar de uma métrica global,\n",
    "Acurácia é o ideal para comparar modelos de diferentes algoritmos"
   ]
  },
  {
   "cell_type": "code",
   "execution_count": null,
   "id": "100419fc",
   "metadata": {},
   "outputs": [],
   "source": [
    "df_melhor_modelo = df_modelos[df_modelos['Acurácia'] == df_modelos['Acurácia'].max()]"
   ]
  },
  {
   "cell_type": "code",
   "execution_count": null,
   "id": "fede3969",
   "metadata": {},
   "outputs": [],
   "source": [
    "df_melhor_modelo"
   ]
  },
  {
   "cell_type": "markdown",
   "id": "b07cbda6",
   "metadata": {},
   "source": [
    "## <font color='blue'> Previsões com o Melhor Modelo Treinado </font>"
   ]
  },
  {
   "cell_type": "markdown",
   "id": "cbd18faa",
   "metadata": {},
   "source": [
    "Obtem o nome do melhor modelo"
   ]
  },
  {
   "cell_type": "code",
   "execution_count": null,
   "id": "8c8826c6",
   "metadata": {},
   "outputs": [],
   "source": [
    "modelo = df_melhor_modelo.Nome.to_string(index = False)\n",
    "modelo"
   ]
  },
  {
   "cell_type": "markdown",
   "id": "c67fd718",
   "metadata": {},
   "source": [
    "Carrega o melhor modelo do disco"
   ]
  },
  {
   "cell_type": "code",
   "execution_count": null,
   "id": "949ffcf0",
   "metadata": {},
   "outputs": [],
   "source": [
    "melhor_modelo = joblib.load('modelos/' + modelo + '.pkl')\n",
    "melhor_modelo"
   ]
  },
  {
   "cell_type": "code",
   "execution_count": null,
   "id": "75c10991",
   "metadata": {},
   "outputs": [],
   "source": [
    "df.columns"
   ]
  },
  {
   "cell_type": "markdown",
   "id": "42e94e25",
   "metadata": {},
   "source": [
    "# <font color='blue'> Previsão de Diabetes com dados de Novos Pacientes </font>"
   ]
  },
  {
   "cell_type": "markdown",
   "id": "27c583a4",
   "metadata": {},
   "source": [
    "* A seguir será carregado o dataset denominado *teste* que contem dados de 20 novos pacientes, que apresentaram as 14 características que serão usadas para diagnosticar se o paciente tem diabetes ou não.\n",
    "* Obs: neste novo dataset não teremos a coluna *Resultado*  que mostra o diagnostico do paciente, Será  responsabilidade do melhor modelo preditivo criado, prever o resultado do diagnostico do paciente consoante os sintomas que cada paciente apresentar.\n",
    "\n",
    "    "
   ]
  },
  {
   "cell_type": "markdown",
   "id": "5f8a06d4",
   "metadata": {},
   "source": [
    "## Carregando o Dataset usado para Previsão"
   ]
  },
  {
   "cell_type": "code",
   "execution_count": null,
   "id": "888fc949",
   "metadata": {},
   "outputs": [],
   "source": [
    "Novos_Pacientes = pd.read_excel('teste.xlsx')"
   ]
  },
  {
   "cell_type": "code",
   "execution_count": null,
   "id": "8b132a81",
   "metadata": {},
   "outputs": [],
   "source": [
    "Pacientes = pd.read_excel('teste.xlsx')"
   ]
  },
  {
   "cell_type": "markdown",
   "id": "a3241beb",
   "metadata": {},
   "source": [
    "## Pré-Processamento de Dados de Novos Pacientes para Previsão"
   ]
  },
  {
   "cell_type": "code",
   "execution_count": null,
   "id": "7ab8dd09",
   "metadata": {},
   "outputs": [],
   "source": [
    "Novos_Pacientes['genero'] = np.where(\n",
    "        (Novos_Pacientes['genero'] == 'Masculino'), 1, \n",
    "    np.where(\n",
    "        (Novos_Pacientes['genero'] == 'Femenino'), 0 , 'x'))"
   ]
  },
  {
   "cell_type": "code",
   "execution_count": null,
   "id": "3f753dab",
   "metadata": {},
   "outputs": [],
   "source": [
    "Novos_Pacientes['poliúria'] = np.where(\n",
    "        (Novos_Pacientes['poliúria'] == 'Sim'), 1, \n",
    "    np.where(\n",
    "        (Novos_Pacientes['poliúria'] == 'Nao'), 0 , 'x'))"
   ]
  },
  {
   "cell_type": "code",
   "execution_count": null,
   "id": "24ffc59b",
   "metadata": {},
   "outputs": [],
   "source": [
    "Novos_Pacientes['polidipsia'] = np.where(\n",
    "        (Novos_Pacientes['polidipsia'] == 'Sim'), 1, \n",
    "    np.where(\n",
    "        (Novos_Pacientes['polidipsia'] == 'Nao'), 0 , 'x'))"
   ]
  },
  {
   "cell_type": "code",
   "execution_count": null,
   "id": "b1d9d4d8",
   "metadata": {},
   "outputs": [],
   "source": [
    "Novos_Pacientes['Perda_peso_repentina'] = np.where(\n",
    "        (Novos_Pacientes['Perda_peso_repentina'] == 'Sim'), 1, \n",
    "    np.where(\n",
    "        (Novos_Pacientes['Perda_peso_repentina'] == 'Nao'), 0 , 'x'))"
   ]
  },
  {
   "cell_type": "code",
   "execution_count": null,
   "id": "546bca58",
   "metadata": {},
   "outputs": [],
   "source": [
    "Novos_Pacientes['fraqueza'] = np.where(\n",
    "        (Novos_Pacientes['fraqueza'] == 'Sim'), 1, \n",
    "    np.where(\n",
    "        (Novos_Pacientes['fraqueza'] == 'Nao'), 0 , 'x'))"
   ]
  },
  {
   "cell_type": "code",
   "execution_count": null,
   "id": "26bfbe02",
   "metadata": {},
   "outputs": [],
   "source": [
    "Novos_Pacientes['polifagia'] = np.where(\n",
    "        (Novos_Pacientes['polifagia'] == 'Sim'), 1, \n",
    "    np.where(\n",
    "        (Novos_Pacientes['polifagia'] == 'Nao'), 0 , 'x'))"
   ]
  },
  {
   "cell_type": "code",
   "execution_count": null,
   "id": "204d5008",
   "metadata": {},
   "outputs": [],
   "source": [
    "Novos_Pacientes['candidiase_genital'] = np.where(\n",
    "        (Novos_Pacientes['candidiase_genital'] == 'Sim'), 1, \n",
    "    np.where(\n",
    "        (Novos_Pacientes['candidiase_genital'] == 'Nao'), 0 , 'x'))"
   ]
  },
  {
   "cell_type": "code",
   "execution_count": null,
   "id": "c59d0dea",
   "metadata": {},
   "outputs": [],
   "source": [
    "Novos_Pacientes['desfoque_visual'] = np.where(\n",
    "        (Novos_Pacientes['desfoque_visual'] == 'Sim'), 1, \n",
    "    np.where(\n",
    "        (Novos_Pacientes['desfoque_visual'] == 'Nao'), 0 , 'x'))"
   ]
  },
  {
   "cell_type": "code",
   "execution_count": null,
   "id": "eedc5e25",
   "metadata": {},
   "outputs": [],
   "source": [
    "Novos_Pacientes['coceira'] = np.where(\n",
    "        (Novos_Pacientes['coceira'] == 'Sim'), 1, \n",
    "    np.where(\n",
    "        (Novos_Pacientes['coceira'] == 'Nao'), 0 , 'x'))"
   ]
  },
  {
   "cell_type": "code",
   "execution_count": null,
   "id": "f36bc31f",
   "metadata": {},
   "outputs": [],
   "source": [
    "Novos_Pacientes['irritabilidade'] = np.where(\n",
    "        (Novos_Pacientes['irritabilidade'] == 'Sim'), 1, \n",
    "    np.where(\n",
    "        (Novos_Pacientes['irritabilidade'] == 'Nao'), 0 , 'x'))"
   ]
  },
  {
   "cell_type": "code",
   "execution_count": null,
   "id": "f79d3f87",
   "metadata": {},
   "outputs": [],
   "source": [
    "Novos_Pacientes['cura_atrasada'] = np.where(\n",
    "        (Novos_Pacientes['cura_atrasada'] == 'Sim'), 1, \n",
    "    np.where(\n",
    "        (Novos_Pacientes['cura_atrasada'] == 'Nao'), 0 , 'x'))"
   ]
  },
  {
   "cell_type": "code",
   "execution_count": null,
   "id": "d36d21c5",
   "metadata": {},
   "outputs": [],
   "source": [
    "Novos_Pacientes['partial_paresis'] = np.where(\n",
    "        (Novos_Pacientes['partial_paresis'] == 'Sim'), 1, \n",
    "    np.where(\n",
    "        (Novos_Pacientes['partial_paresis'] == 'Nao'), 0 , 'x'))"
   ]
  },
  {
   "cell_type": "code",
   "execution_count": null,
   "id": "ad62e7cf",
   "metadata": {},
   "outputs": [],
   "source": [
    "Novos_Pacientes['rigidez_muscular'] = np.where(\n",
    "        (Novos_Pacientes['rigidez_muscular'] == 'Sim'), 1, \n",
    "    np.where(\n",
    "        (Novos_Pacientes['rigidez_muscular'] == 'Nao'), 0 , 'x'))"
   ]
  },
  {
   "cell_type": "code",
   "execution_count": null,
   "id": "66446464",
   "metadata": {},
   "outputs": [],
   "source": [
    "Novos_Pacientes['calvicie'] = np.where(\n",
    "        (Novos_Pacientes['calvicie'] == 'Sim'), 1, \n",
    "    np.where(\n",
    "        (Novos_Pacientes['calvicie'] == 'Nao'), 0 , 'x'))"
   ]
  },
  {
   "cell_type": "code",
   "execution_count": null,
   "id": "1b1d9b13",
   "metadata": {},
   "outputs": [],
   "source": [
    "Novos_Pacientes['obesidade'] = np.where(\n",
    "        (Novos_Pacientes['obesidade'] == 'Sim'), 1, \n",
    "    np.where(\n",
    "        (Novos_Pacientes['obesidade'] == 'Nao'), 0 , 'x'))"
   ]
  },
  {
   "cell_type": "code",
   "execution_count": null,
   "id": "c77dfd51",
   "metadata": {},
   "outputs": [],
   "source": [
    "Novos_Pacientes['genero'] = Novos_Pacientes['genero'].astype(int)\n",
    "Novos_Pacientes['poliúria'] = Novos_Pacientes['poliúria'].astype(int)\n",
    "Novos_Pacientes['polidipsia'] = Novos_Pacientes['polidipsia'].astype(int)\n",
    "Novos_Pacientes['Perda_peso_repentina'] = Novos_Pacientes['Perda_peso_repentina'].astype(int)\n",
    "Novos_Pacientes['fraqueza'] = Novos_Pacientes['fraqueza'].astype(int)\n",
    "Novos_Pacientes['polifagia'] = Novos_Pacientes['polifagia'].astype(int)\n",
    "Novos_Pacientes['candidiase_genital'] = Novos_Pacientes['candidiase_genital'].astype(int)\n",
    "Novos_Pacientes['desfoque_visual'] = Novos_Pacientes['desfoque_visual'].astype(int)\n",
    "Novos_Pacientes['coceira'] = Novos_Pacientes['coceira'].astype(int)\n",
    "Novos_Pacientes['irritabilidade'] = Novos_Pacientes['irritabilidade'].astype(int)\n",
    "Novos_Pacientes['cura_atrasada'] = Novos_Pacientes['cura_atrasada'].astype(int)\n",
    "Novos_Pacientes['partial_paresis'] = Novos_Pacientes['partial_paresis'].astype(int)\n",
    "Novos_Pacientes['rigidez_muscular'] = Novos_Pacientes['rigidez_muscular'].astype(int)\n",
    "Novos_Pacientes['calvicie'] = Novos_Pacientes['calvicie'].astype(int)\n",
    "Novos_Pacientes['obesidade'] = Novos_Pacientes['obesidade'].astype(int)"
   ]
  },
  {
   "cell_type": "code",
   "execution_count": null,
   "id": "63607187",
   "metadata": {},
   "outputs": [],
   "source": [
    "Novos_Pacientes.head(5)"
   ]
  },
  {
   "cell_type": "code",
   "execution_count": null,
   "id": "84e59d64",
   "metadata": {},
   "outputs": [],
   "source": [
    "Novos_Pacientes.dtypes"
   ]
  },
  {
   "cell_type": "code",
   "execution_count": null,
   "id": "9f188156",
   "metadata": {},
   "outputs": [],
   "source": [
    "Novos_Pacientes = (Novos_Pacientes - treino_mean) / treino_std"
   ]
  },
  {
   "cell_type": "code",
   "execution_count": null,
   "id": "0a697be8",
   "metadata": {},
   "outputs": [],
   "source": [
    "Novos_Pacientes.head(10)"
   ]
  },
  {
   "cell_type": "markdown",
   "id": "16317e68",
   "metadata": {},
   "source": [
    "## <font color='blue'> Deploy do Modelo- Colocando o Modelo em Produção </font>"
   ]
  },
  {
   "cell_type": "code",
   "execution_count": null,
   "id": "e75d073b",
   "metadata": {},
   "outputs": [],
   "source": [
    "Novos_pacientes_prev =  melhor_modelo.predict(Novos_Pacientes)"
   ]
  },
  {
   "cell_type": "markdown",
   "id": "6ff8edc8",
   "metadata": {},
   "source": [
    "Mostra as 10 primeiras previsões"
   ]
  },
  {
   "cell_type": "code",
   "execution_count": null,
   "id": "9ce9e9a8",
   "metadata": {},
   "outputs": [],
   "source": [
    "Novos_pacientes_prev[:10]"
   ]
  },
  {
   "cell_type": "markdown",
   "id": "89371eb0",
   "metadata": {},
   "source": [
    "Obtemos as previsões no formato de probabilidade para cada classe"
   ]
  },
  {
   "cell_type": "code",
   "execution_count": null,
   "id": "7afd98af",
   "metadata": {},
   "outputs": [],
   "source": [
    "NovosP_pred_proba = melhor_modelo.predict_proba(Novos_Pacientes)"
   ]
  },
  {
   "cell_type": "markdown",
   "id": "f7cca21a",
   "metadata": {},
   "source": [
    "Mostra as 10 primeiras previsões"
   ]
  },
  {
   "cell_type": "code",
   "execution_count": null,
   "id": "6e304986",
   "metadata": {},
   "outputs": [],
   "source": [
    "NovosP_pred_proba[:10]"
   ]
  },
  {
   "cell_type": "markdown",
   "id": "be971945",
   "metadata": {},
   "source": [
    "Obtemos as previsões no formato de probabilidade filtrando para a classe positiva"
   ]
  },
  {
   "cell_type": "code",
   "execution_count": null,
   "id": "994d814d",
   "metadata": {},
   "outputs": [],
   "source": [
    "NovosP_pred_proba_1 = melhor_modelo.predict_proba(Novos_Pacientes)[:,1]"
   ]
  },
  {
   "cell_type": "markdown",
   "id": "64c09481",
   "metadata": {},
   "source": [
    "Mostra as 10 primeiras previsão de pobrabilidade do resultado ser 1"
   ]
  },
  {
   "cell_type": "code",
   "execution_count": null,
   "id": "f024e37e",
   "metadata": {},
   "outputs": [],
   "source": [
    "NovosP_pred_proba_1[:10]"
   ]
  },
  {
   "cell_type": "code",
   "execution_count": null,
   "id": "4f9e9433",
   "metadata": {},
   "outputs": [],
   "source": [
    "Pacientes.head(5)"
   ]
  },
  {
   "cell_type": "markdown",
   "id": "c1957a99",
   "metadata": {},
   "source": [
    "### Adicionado dentro do dataset Pacientes o resultado previsto pelo algoritimo "
   ]
  },
  {
   "cell_type": "code",
   "execution_count": null,
   "id": "a24d10db",
   "metadata": {},
   "outputs": [],
   "source": [
    "Pacientes['resultadoPrevisto'] = Novos_pacientes_prev"
   ]
  },
  {
   "cell_type": "markdown",
   "id": "8f9c5dac",
   "metadata": {},
   "source": [
    "### Adicionado dentro do dataset Pacientes a probabilidade do paciente ter diabete "
   ]
  },
  {
   "cell_type": "code",
   "execution_count": null,
   "id": "8023c2a6",
   "metadata": {},
   "outputs": [],
   "source": [
    "Pacientes['Probabilidade_RP_1'] = NovosP_pred_proba_1"
   ]
  },
  {
   "cell_type": "code",
   "execution_count": null,
   "id": "58aee8a9",
   "metadata": {
    "scrolled": true
   },
   "outputs": [],
   "source": [
    "Pacientes.head(10)"
   ]
  },
  {
   "cell_type": "markdown",
   "id": "7e1f31b9",
   "metadata": {},
   "source": [
    "## <font color='blue'> Guardando o Dataframe do Resultado da Previsao Realizada pelo Modelo Preditivo </font>"
   ]
  },
  {
   "cell_type": "code",
   "execution_count": null,
   "id": "7793f5d4",
   "metadata": {},
   "outputs": [],
   "source": [
    "# Salva o dataframe\n",
    "Pacientes.to_csv('df_Previsao.csv1', sep = ',', encoding = 'utf-8')"
   ]
  }
 ],
 "metadata": {
  "kernelspec": {
   "display_name": "Python 3 (ipykernel)",
   "language": "python",
   "name": "python3"
  },
  "language_info": {
   "codemirror_mode": {
    "name": "ipython",
    "version": 3
   },
   "file_extension": ".py",
   "mimetype": "text/x-python",
   "name": "python",
   "nbconvert_exporter": "python",
   "pygments_lexer": "ipython3",
   "version": "3.9.7"
  }
 },
 "nbformat": 4,
 "nbformat_minor": 5
}
